{
 "cells": [
  {
   "cell_type": "code",
   "execution_count": 1,
   "metadata": {
    "collapsed": true
   },
   "outputs": [],
   "source": [
    "%matplotlib inline"
   ]
  },
  {
   "cell_type": "markdown",
   "metadata": {},
   "source": [
    "# Model Training\n",
    "Code for finding the best predictive model   \n",
    "_Author: Jimmy Charité_  \n",
    "_Email: jimmy.charite@gmail.com_  \n",
    "_Date: January 8, 2017_"
   ]
  },
  {
   "cell_type": "markdown",
   "metadata": {},
   "source": [
    "### Directory & Initial Packages"
   ]
  },
  {
   "cell_type": "code",
   "execution_count": 2,
   "metadata": {
    "collapsed": true
   },
   "outputs": [],
   "source": [
    "import os\n",
    "import pandas as pd\n",
    "import numpy as np\n",
    "import seaborn as sns\n",
    "import matplotlib.pyplot as plt\n",
    "import json\n",
    "from IPython.display import Image\n",
    "from IPython.core.display import HTML"
   ]
  },
  {
   "cell_type": "markdown",
   "metadata": {},
   "source": [
    "The default directory is the code subdirectory. Changing to the main repo directory above."
   ]
  },
  {
   "cell_type": "markdown",
   "metadata": {},
   "source": [
    "### Upload Data"
   ]
  },
  {
   "cell_type": "code",
   "execution_count": 3,
   "metadata": {
    "collapsed": true
   },
   "outputs": [],
   "source": [
    "retval=os.chdir(\"..\")"
   ]
  },
  {
   "cell_type": "code",
   "execution_count": 4,
   "metadata": {
    "collapsed": false
   },
   "outputs": [
    {
     "data": {
      "text/html": [
       "<div>\n",
       "<table border=\"1\" class=\"dataframe\">\n",
       "  <thead>\n",
       "    <tr style=\"text-align: right;\">\n",
       "      <th></th>\n",
       "      <th>height_0t50</th>\n",
       "      <th>height_100t150</th>\n",
       "      <th>height_150t200</th>\n",
       "      <th>height_200t250</th>\n",
       "      <th>height_250t300</th>\n",
       "      <th>height_300t350</th>\n",
       "      <th>height_350t400</th>\n",
       "      <th>height_400t</th>\n",
       "      <th>height_50t100</th>\n",
       "      <th>width_0t50</th>\n",
       "      <th>...</th>\n",
       "      <th>caption*home</th>\n",
       "      <th>caption*my</th>\n",
       "      <th>caption*your</th>\n",
       "      <th>caption*in</th>\n",
       "      <th>caption*bytes</th>\n",
       "      <th>caption*here</th>\n",
       "      <th>caption*click</th>\n",
       "      <th>caption*for</th>\n",
       "      <th>caption*you</th>\n",
       "      <th>image_type</th>\n",
       "    </tr>\n",
       "  </thead>\n",
       "  <tbody>\n",
       "    <tr>\n",
       "      <th>0</th>\n",
       "      <td>0.0</td>\n",
       "      <td>1.0</td>\n",
       "      <td>0.0</td>\n",
       "      <td>0.0</td>\n",
       "      <td>0.0</td>\n",
       "      <td>0.0</td>\n",
       "      <td>0.0</td>\n",
       "      <td>0.0</td>\n",
       "      <td>0.0</td>\n",
       "      <td>0.0</td>\n",
       "      <td>...</td>\n",
       "      <td>0</td>\n",
       "      <td>0</td>\n",
       "      <td>0</td>\n",
       "      <td>0</td>\n",
       "      <td>0</td>\n",
       "      <td>0</td>\n",
       "      <td>0</td>\n",
       "      <td>0</td>\n",
       "      <td>0</td>\n",
       "      <td>1</td>\n",
       "    </tr>\n",
       "    <tr>\n",
       "      <th>1</th>\n",
       "      <td>0.0</td>\n",
       "      <td>0.0</td>\n",
       "      <td>0.0</td>\n",
       "      <td>0.0</td>\n",
       "      <td>0.0</td>\n",
       "      <td>0.0</td>\n",
       "      <td>0.0</td>\n",
       "      <td>0.0</td>\n",
       "      <td>1.0</td>\n",
       "      <td>0.0</td>\n",
       "      <td>...</td>\n",
       "      <td>0</td>\n",
       "      <td>0</td>\n",
       "      <td>0</td>\n",
       "      <td>0</td>\n",
       "      <td>0</td>\n",
       "      <td>0</td>\n",
       "      <td>0</td>\n",
       "      <td>0</td>\n",
       "      <td>0</td>\n",
       "      <td>1</td>\n",
       "    </tr>\n",
       "    <tr>\n",
       "      <th>2</th>\n",
       "      <td>1.0</td>\n",
       "      <td>0.0</td>\n",
       "      <td>0.0</td>\n",
       "      <td>0.0</td>\n",
       "      <td>0.0</td>\n",
       "      <td>0.0</td>\n",
       "      <td>0.0</td>\n",
       "      <td>0.0</td>\n",
       "      <td>0.0</td>\n",
       "      <td>0.0</td>\n",
       "      <td>...</td>\n",
       "      <td>0</td>\n",
       "      <td>0</td>\n",
       "      <td>0</td>\n",
       "      <td>0</td>\n",
       "      <td>0</td>\n",
       "      <td>0</td>\n",
       "      <td>0</td>\n",
       "      <td>0</td>\n",
       "      <td>0</td>\n",
       "      <td>1</td>\n",
       "    </tr>\n",
       "    <tr>\n",
       "      <th>3</th>\n",
       "      <td>0.0</td>\n",
       "      <td>0.0</td>\n",
       "      <td>0.0</td>\n",
       "      <td>0.0</td>\n",
       "      <td>0.0</td>\n",
       "      <td>0.0</td>\n",
       "      <td>0.0</td>\n",
       "      <td>0.0</td>\n",
       "      <td>1.0</td>\n",
       "      <td>0.0</td>\n",
       "      <td>...</td>\n",
       "      <td>0</td>\n",
       "      <td>0</td>\n",
       "      <td>0</td>\n",
       "      <td>0</td>\n",
       "      <td>0</td>\n",
       "      <td>0</td>\n",
       "      <td>0</td>\n",
       "      <td>0</td>\n",
       "      <td>0</td>\n",
       "      <td>1</td>\n",
       "    </tr>\n",
       "    <tr>\n",
       "      <th>4</th>\n",
       "      <td>0.0</td>\n",
       "      <td>0.0</td>\n",
       "      <td>0.0</td>\n",
       "      <td>0.0</td>\n",
       "      <td>0.0</td>\n",
       "      <td>0.0</td>\n",
       "      <td>0.0</td>\n",
       "      <td>0.0</td>\n",
       "      <td>1.0</td>\n",
       "      <td>0.0</td>\n",
       "      <td>...</td>\n",
       "      <td>0</td>\n",
       "      <td>0</td>\n",
       "      <td>0</td>\n",
       "      <td>0</td>\n",
       "      <td>0</td>\n",
       "      <td>0</td>\n",
       "      <td>0</td>\n",
       "      <td>0</td>\n",
       "      <td>0</td>\n",
       "      <td>1</td>\n",
       "    </tr>\n",
       "  </tbody>\n",
       "</table>\n",
       "<p>5 rows × 1580 columns</p>\n",
       "</div>"
      ],
      "text/plain": [
       "   height_0t50  height_100t150  height_150t200  height_200t250  \\\n",
       "0          0.0             1.0             0.0             0.0   \n",
       "1          0.0             0.0             0.0             0.0   \n",
       "2          1.0             0.0             0.0             0.0   \n",
       "3          0.0             0.0             0.0             0.0   \n",
       "4          0.0             0.0             0.0             0.0   \n",
       "\n",
       "   height_250t300  height_300t350  height_350t400  height_400t  height_50t100  \\\n",
       "0             0.0             0.0             0.0          0.0            0.0   \n",
       "1             0.0             0.0             0.0          0.0            1.0   \n",
       "2             0.0             0.0             0.0          0.0            0.0   \n",
       "3             0.0             0.0             0.0          0.0            1.0   \n",
       "4             0.0             0.0             0.0          0.0            1.0   \n",
       "\n",
       "   width_0t50     ...      caption*home  caption*my  caption*your  caption*in  \\\n",
       "0         0.0     ...                 0           0             0           0   \n",
       "1         0.0     ...                 0           0             0           0   \n",
       "2         0.0     ...                 0           0             0           0   \n",
       "3         0.0     ...                 0           0             0           0   \n",
       "4         0.0     ...                 0           0             0           0   \n",
       "\n",
       "   caption*bytes  caption*here  caption*click  caption*for  caption*you  \\\n",
       "0              0             0              0            0            0   \n",
       "1              0             0              0            0            0   \n",
       "2              0             0              0            0            0   \n",
       "3              0             0              0            0            0   \n",
       "4              0             0              0            0            0   \n",
       "\n",
       "   image_type  \n",
       "0           1  \n",
       "1           1  \n",
       "2           1  \n",
       "3           1  \n",
       "4           1  \n",
       "\n",
       "[5 rows x 1580 columns]"
      ]
     },
     "execution_count": 4,
     "metadata": {},
     "output_type": "execute_result"
    }
   ],
   "source": [
    "clean_data=pd.read_csv(\"./clean_data/modeling_data.csv\")\n",
    "clean_data.head()"
   ]
  },
  {
   "cell_type": "markdown",
   "metadata": {},
   "source": [
    "### Random States"
   ]
  },
  {
   "cell_type": "code",
   "execution_count": 5,
   "metadata": {
    "collapsed": true
   },
   "outputs": [],
   "source": [
    "my_rand_state=0"
   ]
  },
  {
   "cell_type": "markdown",
   "metadata": {},
   "source": [
    "### Training and Testing Split"
   ]
  },
  {
   "cell_type": "code",
   "execution_count": 6,
   "metadata": {
    "collapsed": true
   },
   "outputs": [],
   "source": [
    "from sklearn.model_selection import train_test_split"
   ]
  },
  {
   "cell_type": "code",
   "execution_count": 7,
   "metadata": {
    "collapsed": false
   },
   "outputs": [],
   "source": [
    "X = (clean_data.iloc[:,:-1]).as_matrix()\n",
    "y = (clean_data.iloc[:,-1]).tolist()"
   ]
  },
  {
   "cell_type": "code",
   "execution_count": 8,
   "metadata": {
    "collapsed": false
   },
   "outputs": [],
   "source": [
    "X_train, X_test, y_train, y_test = train_test_split(X, y, test_size=0.25, \n",
    "                                              random_state=my_rand_state)"
   ]
  },
  {
   "cell_type": "markdown",
   "metadata": {},
   "source": [
    "### Class Imbalance Corrections"
   ]
  },
  {
   "cell_type": "code",
   "execution_count": 9,
   "metadata": {
    "collapsed": false
   },
   "outputs": [
    {
     "name": "stderr",
     "output_type": "stream",
     "text": [
      "/home/jim/anaconda2/envs/py35/lib/python3.5/site-packages/sklearn/cross_validation.py:44: DeprecationWarning: This module was deprecated in version 0.18 in favor of the model_selection module into which all the refactored classes and functions are moved. Also note that the interface of the new CV iterators are different from that of this module. This module will be removed in 0.20.\n",
      "  \"This module will be removed in 0.20.\", DeprecationWarning)\n"
     ]
    }
   ],
   "source": [
    "from imblearn.over_sampling import RandomOverSampler, SMOTE\n",
    "from imblearn.under_sampling import RandomUnderSampler, TomekLinks"
   ]
  },
  {
   "cell_type": "code",
   "execution_count": 77,
   "metadata": {
    "collapsed": true
   },
   "outputs": [],
   "source": [
    "ros = RandomOverSampler(random_state=my_rand_state)\n",
    "smote = SMOTE(random_state=my_rand_state)\n",
    "rus = RandomUnderSampler(random_state=my_rand_state)\n",
    "tl = TomekLinks(random_state=my_rand_state)"
   ]
  },
  {
   "cell_type": "markdown",
   "metadata": {},
   "source": [
    "### Feature Selection"
   ]
  },
  {
   "cell_type": "code",
   "execution_count": 11,
   "metadata": {
    "collapsed": true
   },
   "outputs": [],
   "source": [
    "from sklearn.feature_selection import VarianceThreshold"
   ]
  },
  {
   "cell_type": "code",
   "execution_count": 12,
   "metadata": {
    "collapsed": false
   },
   "outputs": [],
   "source": [
    "vt = VarianceThreshold()\n",
    "threshold=[p*(1-p) for p in [0, 0.05, 0.1, 0.15]]"
   ]
  },
  {
   "cell_type": "markdown",
   "metadata": {},
   "source": [
    "Note, since the formula for the variance of binary variables is p*(1-p), where p is the proportion of times that the binary variable is 1, I use the proportion to define the variance thresholds. The max variance is 0.25 at p=0.5."
   ]
  },
  {
   "cell_type": "markdown",
   "metadata": {},
   "source": [
    "### Classification Models"
   ]
  },
  {
   "cell_type": "code",
   "execution_count": 15,
   "metadata": {
    "collapsed": true
   },
   "outputs": [],
   "source": [
    "from sklearn.naive_bayes import GaussianNB\n",
    "from sklearn.discriminant_analysis import QuadraticDiscriminantAnalysis\n",
    "from sklearn.linear_model import LogisticRegression\n",
    "from sklearn.neighbors import KNeighborsClassifier\n",
    "from sklearn.ensemble import RandomForestClassifier"
   ]
  },
  {
   "cell_type": "markdown",
   "metadata": {},
   "source": [
    "Although tuning is not necessary for Naive Bayes, I pass the default parameters of those models to GridSearchCV anyway so that I can do a direct pair-wise comparison with the other models across the different steps of the cross-validation.\n",
    "\n",
    "In the interest of time, I didn't use the SVM classifier to avoid lengthy model training time.\n",
    "\n",
    "I use a training set to tune the model's hyperparameters and a test set to evaluate them. With more time and data, I would use repeated nested cross-validation to get a create a more robust model tuning, selection, and performance assessment workflow. "
   ]
  },
  {
   "cell_type": "code",
   "execution_count": 16,
   "metadata": {
    "collapsed": true
   },
   "outputs": [],
   "source": [
    "nb_clf=GaussianNB()\n",
    "priors=[None]"
   ]
  },
  {
   "cell_type": "code",
   "execution_count": 35,
   "metadata": {
    "collapsed": true
   },
   "outputs": [],
   "source": [
    "qda_clf=QuadraticDiscriminantAnalysis()\n",
    "reg_param=[0.0, 0.25, 0.5, 0.75]"
   ]
  },
  {
   "cell_type": "code",
   "execution_count": 38,
   "metadata": {
    "collapsed": true
   },
   "outputs": [],
   "source": [
    "log_clf=LogisticRegression()\n",
    "C=[0.001 , 0.01, 10, 100,1000]"
   ]
  },
  {
   "cell_type": "code",
   "execution_count": 53,
   "metadata": {
    "collapsed": true
   },
   "outputs": [],
   "source": [
    "knn_clf=KNeighborsClassifier(n_jobs=4)\n",
    "n_neighbors=list(range(1,17,2))\n",
    "weights=['uniform','distance']"
   ]
  },
  {
   "cell_type": "code",
   "execution_count": 287,
   "metadata": {
    "collapsed": true
   },
   "outputs": [],
   "source": [
    "rf_clf=RandomForestClassifier()\n",
    "n_estimators=[100]\n",
    "max_features=[.1,.3,.5]"
   ]
  },
  {
   "cell_type": "code",
   "execution_count": 23,
   "metadata": {
    "collapsed": false
   },
   "outputs": [],
   "source": [
    "class_weight=['balanced']\n",
    "class_weight.extend([{1: w} for w in [1, 2, 10]])"
   ]
  },
  {
   "cell_type": "markdown",
   "metadata": {},
   "source": [
    "### Creating Pipelines"
   ]
  },
  {
   "cell_type": "code",
   "execution_count": 24,
   "metadata": {
    "collapsed": true
   },
   "outputs": [],
   "source": [
    "from imblearn import pipeline #needed if blending imblearn with sklearn classes\n",
    "from sklearn.model_selection import GridSearchCV\n",
    "from sklearn.model_selection import StratifiedKFold"
   ]
  },
  {
   "cell_type": "code",
   "execution_count": 25,
   "metadata": {
    "collapsed": true
   },
   "outputs": [],
   "source": [
    "n_jobs=4"
   ]
  },
  {
   "cell_type": "code",
   "execution_count": 26,
   "metadata": {
    "collapsed": true
   },
   "outputs": [],
   "source": [
    "n_folds=10\n",
    "skfold = StratifiedKFold(n_splits=n_folds,random_state=my_rand_state, shuffle=False)"
   ]
  },
  {
   "cell_type": "markdown",
   "metadata": {},
   "source": [
    "#### Naive Bayes Estimators"
   ]
  },
  {
   "cell_type": "code",
   "execution_count": 30,
   "metadata": {
    "collapsed": true
   },
   "outputs": [],
   "source": [
    "nb_clf_b = pipeline.Pipeline(steps=[('vt',vt),('clf',nb_clf)])\n",
    "nb_clf_est_b = GridSearchCV(estimator=nb_clf_b,cv=skfold,\n",
    "              scoring='roc_auc',n_jobs=n_jobs,\n",
    "              param_grid=dict(vt__threshold=threshold,clf__priors=priors))"
   ]
  },
  {
   "cell_type": "code",
   "execution_count": 75,
   "metadata": {
    "collapsed": true
   },
   "outputs": [],
   "source": [
    "nb_clf_ros = pipeline.Pipeline(steps=[('ros',ros),('vt',vt),\n",
    "                                      ('clf',nb_clf)])\n",
    "nb_clf_est_ros = GridSearchCV(estimator=nb_clf_ros,cv=skfold,\n",
    "              scoring='roc_auc',n_jobs=n_jobs,\n",
    "              param_grid=dict(vt__threshold=threshold,\n",
    "                              clf__priors=priors))"
   ]
  },
  {
   "cell_type": "code",
   "execution_count": 76,
   "metadata": {
    "collapsed": true
   },
   "outputs": [],
   "source": [
    "nb_clf_smote = pipeline.Pipeline(steps=[('smote',smote),('vt',vt),\n",
    "                                      ('clf',nb_clf)])\n",
    "nb_clf_est_smote = GridSearchCV(estimator=nb_clf_smote,cv=skfold,\n",
    "              scoring='roc_auc',n_jobs=n_jobs,\n",
    "              param_grid=dict(vt__threshold=threshold,\n",
    "                              clf__priors=priors))"
   ]
  },
  {
   "cell_type": "code",
   "execution_count": 78,
   "metadata": {
    "collapsed": true
   },
   "outputs": [],
   "source": [
    "nb_clf_rus = pipeline.Pipeline(steps=[('rus',rus),('vt',vt),\n",
    "                                      ('clf',nb_clf)])\n",
    "nb_clf_est_rus = GridSearchCV(estimator=nb_clf_rus,cv=skfold,\n",
    "              scoring='roc_auc',n_jobs=n_jobs,\n",
    "              param_grid=dict(vt__threshold=threshold,\n",
    "                              clf__priors=priors))"
   ]
  },
  {
   "cell_type": "code",
   "execution_count": 79,
   "metadata": {
    "collapsed": true
   },
   "outputs": [],
   "source": [
    "nb_clf_tl = pipeline.Pipeline(steps=[('tl',tl),('vt',vt),\n",
    "                                      ('clf',nb_clf)])\n",
    "nb_clf_est_tl = GridSearchCV(estimator=nb_clf_tl,cv=skfold,\n",
    "              scoring='roc_auc',n_jobs=n_jobs,\n",
    "              param_grid=dict(vt__threshold=threshold,\n",
    "                              clf__priors=priors))"
   ]
  },
  {
   "cell_type": "markdown",
   "metadata": {},
   "source": [
    "#### QDA Estimators"
   ]
  },
  {
   "cell_type": "code",
   "execution_count": 32,
   "metadata": {
    "collapsed": true
   },
   "outputs": [],
   "source": [
    "qda_clf_b = pipeline.Pipeline(steps=[('vt',vt),('clf',qda_clf)])\n",
    "qda_clf_est_b = GridSearchCV(estimator=qda_clf_b,cv=skfold,\n",
    "              scoring='roc_auc',n_jobs=n_jobs,\n",
    "              param_grid=dict(vt__threshold=threshold,clf__reg_param=reg_param))"
   ]
  },
  {
   "cell_type": "code",
   "execution_count": 80,
   "metadata": {
    "collapsed": true
   },
   "outputs": [],
   "source": [
    "qda_clf_ros = pipeline.Pipeline(steps=[('ros',ros),('vt',vt),\n",
    "                                       ('clf',qda_clf)])\n",
    "qda_clf_est_ros = GridSearchCV(estimator=qda_clf_ros,cv=skfold,\n",
    "              scoring='roc_auc',n_jobs=n_jobs,\n",
    "              param_grid=dict(vt__threshold=threshold,\n",
    "                              clf__reg_param=reg_param))"
   ]
  },
  {
   "cell_type": "code",
   "execution_count": 81,
   "metadata": {
    "collapsed": true
   },
   "outputs": [],
   "source": [
    "qda_clf_smote = pipeline.Pipeline(steps=[('smote',smote),('vt',vt),\n",
    "                                       ('clf',qda_clf)])\n",
    "qda_clf_est_smote = GridSearchCV(estimator=qda_clf_smote,cv=skfold,\n",
    "              scoring='roc_auc',n_jobs=n_jobs,\n",
    "              param_grid=dict(vt__threshold=threshold,\n",
    "                              clf__reg_param=reg_param))"
   ]
  },
  {
   "cell_type": "code",
   "execution_count": 137,
   "metadata": {
    "collapsed": true
   },
   "outputs": [],
   "source": [
    "qda_clf_rus = pipeline.Pipeline(steps=[('rus',rus),('vt',vt),\n",
    "                                       ('clf',qda_clf)])\n",
    "qda_clf_est_rus = GridSearchCV(estimator=qda_clf_rus,cv=skfold,\n",
    "              scoring='roc_auc',n_jobs=n_jobs,\n",
    "              param_grid=dict(vt__threshold=threshold,\n",
    "                              clf__reg_param=reg_param))"
   ]
  },
  {
   "cell_type": "code",
   "execution_count": 83,
   "metadata": {
    "collapsed": true
   },
   "outputs": [],
   "source": [
    "qda_clf_tl = pipeline.Pipeline(steps=[('tl',tl),('vt',vt),\n",
    "                                       ('clf',qda_clf)])\n",
    "qda_clf_est_tl = GridSearchCV(estimator=qda_clf_tl,cv=skfold,\n",
    "              scoring='roc_auc',n_jobs=n_jobs,\n",
    "              param_grid=dict(vt__threshold=threshold,\n",
    "                              clf__reg_param=reg_param))"
   ]
  },
  {
   "cell_type": "markdown",
   "metadata": {},
   "source": [
    "#### Logistic Estimators"
   ]
  },
  {
   "cell_type": "code",
   "execution_count": 51,
   "metadata": {
    "collapsed": true
   },
   "outputs": [],
   "source": [
    "log_clf_b = pipeline.Pipeline(steps=[('vt',vt),('clf',log_clf)])\n",
    "log_clf_est_b = GridSearchCV(estimator=log_clf_b,cv=skfold,\n",
    "              scoring='roc_auc',n_jobs=n_jobs,\n",
    "              param_grid=dict(vt__threshold=threshold,clf__C=C,\n",
    "              clf__class_weight=class_weight))"
   ]
  },
  {
   "cell_type": "code",
   "execution_count": 105,
   "metadata": {
    "collapsed": true
   },
   "outputs": [],
   "source": [
    "log_clf_ros = pipeline.Pipeline(steps=[('ros',ros),('vt',vt),\n",
    "                                     ('clf',log_clf)])\n",
    "log_clf_est_ros = GridSearchCV(estimator=log_clf_ros,cv=skfold,\n",
    "              scoring='roc_auc',n_jobs=n_jobs,\n",
    "              param_grid=dict(vt__threshold=threshold,clf__C=C,\n",
    "              clf__class_weight=class_weight))"
   ]
  },
  {
   "cell_type": "code",
   "execution_count": 106,
   "metadata": {
    "collapsed": true
   },
   "outputs": [],
   "source": [
    "log_clf_smote = pipeline.Pipeline(steps=[('smote',smote),('vt',vt),\n",
    "                                     ('clf',log_clf)])\n",
    "log_clf_est_smote = GridSearchCV(estimator=log_clf_smote,cv=skfold,\n",
    "              scoring='roc_auc',n_jobs=n_jobs,\n",
    "              param_grid=dict(vt__threshold=threshold,clf__C=C,\n",
    "              clf__class_weight=class_weight))"
   ]
  },
  {
   "cell_type": "code",
   "execution_count": 107,
   "metadata": {
    "collapsed": true
   },
   "outputs": [],
   "source": [
    "log_clf_rus = pipeline.Pipeline(steps=[('rus',rus),('vt',vt),\n",
    "                                     ('clf',log_clf)])\n",
    "log_clf_est_rus = GridSearchCV(estimator=log_clf_rus,cv=skfold,\n",
    "              scoring='roc_auc',n_jobs=n_jobs,\n",
    "              param_grid=dict(vt__threshold=threshold,clf__C=C,\n",
    "              clf__class_weight=class_weight))"
   ]
  },
  {
   "cell_type": "code",
   "execution_count": 108,
   "metadata": {
    "collapsed": true
   },
   "outputs": [],
   "source": [
    "log_clf_tl = pipeline.Pipeline(steps=[('tl',tl),('vt',vt),\n",
    "                                     ('clf',log_clf)])\n",
    "log_clf_est_tl = GridSearchCV(estimator=log_clf_tl,cv=skfold,\n",
    "              scoring='roc_auc',n_jobs=n_jobs,\n",
    "              param_grid=dict(vt__threshold=threshold,clf__C=C,\n",
    "              clf__class_weight=class_weight))"
   ]
  },
  {
   "cell_type": "markdown",
   "metadata": {},
   "source": [
    "#### KNN Estimators"
   ]
  },
  {
   "cell_type": "code",
   "execution_count": 42,
   "metadata": {
    "collapsed": true
   },
   "outputs": [],
   "source": [
    "knn_clf_b = pipeline.Pipeline(steps=[('vt',vt),('clf',knn_clf)])\n",
    "knn_clf_est_b = GridSearchCV(estimator=knn_clf_b,cv=skfold,\n",
    "              scoring='roc_auc',n_jobs=n_jobs,\n",
    "              param_grid=dict(vt__threshold=threshold,\n",
    "              clf__n_neighbors=n_neighbors,\n",
    "              clf__weights=weights))"
   ]
  },
  {
   "cell_type": "code",
   "execution_count": 109,
   "metadata": {
    "collapsed": true
   },
   "outputs": [],
   "source": [
    "knn_clf_ros = pipeline.Pipeline(steps=[('ros',ros),('vt',vt),\n",
    "                                     ('clf',knn_clf)])\n",
    "knn_clf_est_ros = GridSearchCV(estimator=knn_clf_ros,cv=skfold,\n",
    "              scoring='roc_auc',n_jobs=n_jobs,\n",
    "              param_grid=dict(vt__threshold=threshold,\n",
    "              clf__n_neighbors=n_neighbors,\n",
    "              clf__weights=weights))"
   ]
  },
  {
   "cell_type": "code",
   "execution_count": 110,
   "metadata": {
    "collapsed": true
   },
   "outputs": [],
   "source": [
    "knn_clf_smote = pipeline.Pipeline(steps=[('smote',smote),('vt',vt),\n",
    "                                     ('clf',knn_clf)])\n",
    "knn_clf_est_smote = GridSearchCV(estimator=knn_clf_smote,cv=skfold,\n",
    "              scoring='roc_auc',n_jobs=n_jobs,\n",
    "              param_grid=dict(vt__threshold=threshold,\n",
    "              clf__n_neighbors=n_neighbors,\n",
    "              clf__weights=weights))"
   ]
  },
  {
   "cell_type": "code",
   "execution_count": 111,
   "metadata": {
    "collapsed": true
   },
   "outputs": [],
   "source": [
    "knn_clf_rus = pipeline.Pipeline(steps=[('rus',rus),('vt',vt),\n",
    "                                     ('clf',knn_clf)])\n",
    "knn_clf_est_rus = GridSearchCV(estimator=knn_clf_rus,cv=skfold,\n",
    "              scoring='roc_auc',n_jobs=n_jobs,\n",
    "              param_grid=dict(vt__threshold=threshold,\n",
    "              clf__n_neighbors=n_neighbors,\n",
    "              clf__weights=weights))"
   ]
  },
  {
   "cell_type": "code",
   "execution_count": 112,
   "metadata": {
    "collapsed": true
   },
   "outputs": [],
   "source": [
    "knn_clf_tl = pipeline.Pipeline(steps=[('tl',tl),('vt',vt),\n",
    "                                     ('clf',knn_clf)])\n",
    "knn_clf_est_tl = GridSearchCV(estimator=knn_clf_tl,cv=skfold,\n",
    "              scoring='roc_auc',n_jobs=n_jobs,\n",
    "              param_grid=dict(vt__threshold=threshold,\n",
    "              clf__n_neighbors=n_neighbors,\n",
    "              clf__weights=weights))"
   ]
  },
  {
   "cell_type": "markdown",
   "metadata": {},
   "source": [
    "#### Random Forest Estimators"
   ]
  },
  {
   "cell_type": "code",
   "execution_count": 288,
   "metadata": {
    "collapsed": true
   },
   "outputs": [],
   "source": [
    "rf_clf_b = pipeline.Pipeline(steps=[('vt',vt),('clf',rf_clf)])\n",
    "rf_clf_est_b = GridSearchCV(estimator=rf_clf_b,cv=skfold,\n",
    "              scoring='roc_auc',n_jobs=n_jobs,\n",
    "              param_grid=dict(vt__threshold=threshold,\n",
    "              clf__n_estimators=n_estimators,\n",
    "              clf__max_features=max_features,\n",
    "              clf__class_weight=class_weight))"
   ]
  },
  {
   "cell_type": "code",
   "execution_count": 289,
   "metadata": {
    "collapsed": true
   },
   "outputs": [],
   "source": [
    "rf_clf_ros = pipeline.Pipeline(steps=[('ros',ros),('vt',vt),\n",
    "                                    ('clf',rf_clf)])\n",
    "rf_clf_est_ros = GridSearchCV(estimator=rf_clf_ros,cv=skfold,\n",
    "              scoring='roc_auc',n_jobs=n_jobs,\n",
    "              param_grid=dict(vt__threshold=threshold,\n",
    "              clf__n_estimators=n_estimators,\n",
    "              clf__max_features=max_features,\n",
    "              clf__class_weight=class_weight))"
   ]
  },
  {
   "cell_type": "code",
   "execution_count": 290,
   "metadata": {
    "collapsed": true
   },
   "outputs": [],
   "source": [
    "rf_clf_smote = pipeline.Pipeline(steps=[('smote',smote),('vt',vt),\n",
    "                                    ('clf',rf_clf)])\n",
    "rf_clf_est_smote = GridSearchCV(estimator=rf_clf_smote,cv=skfold,\n",
    "              scoring='roc_auc',n_jobs=n_jobs,\n",
    "              param_grid=dict(vt__threshold=threshold,\n",
    "              clf__n_estimators=n_estimators,\n",
    "              clf__max_features=max_features,\n",
    "              clf__class_weight=class_weight))"
   ]
  },
  {
   "cell_type": "code",
   "execution_count": 291,
   "metadata": {
    "collapsed": true
   },
   "outputs": [],
   "source": [
    "rf_clf_rus = pipeline.Pipeline(steps=[('rus',rus),('vt',vt),\n",
    "                                    ('clf',rf_clf)])\n",
    "rf_clf_est_rus = GridSearchCV(estimator=rf_clf_rus,cv=skfold,\n",
    "              scoring='roc_auc',n_jobs=n_jobs,\n",
    "              param_grid=dict(vt__threshold=threshold,\n",
    "              clf__n_estimators=n_estimators,\n",
    "              clf__max_features=max_features,\n",
    "              clf__class_weight=class_weight))"
   ]
  },
  {
   "cell_type": "code",
   "execution_count": 292,
   "metadata": {
    "collapsed": true
   },
   "outputs": [],
   "source": [
    "rf_clf_tl = pipeline.Pipeline(steps=[('tl',tl),('vt',vt),\n",
    "                                    ('clf',rf_clf)])\n",
    "rf_clf_est_tl = GridSearchCV(estimator=rf_clf_tl,cv=skfold,\n",
    "              scoring='roc_auc',n_jobs=n_jobs,\n",
    "              param_grid=dict(vt__threshold=threshold,\n",
    "              clf__n_estimators=n_estimators,\n",
    "              clf__max_features=max_features,\n",
    "              clf__class_weight=class_weight))"
   ]
  },
  {
   "cell_type": "markdown",
   "metadata": {},
   "source": [
    "### Fitting Estimators"
   ]
  },
  {
   "cell_type": "code",
   "execution_count": 92,
   "metadata": {
    "collapsed": true
   },
   "outputs": [],
   "source": [
    "from sklearn.externals import joblib"
   ]
  },
  {
   "cell_type": "markdown",
   "metadata": {},
   "source": [
    "#### Basic Estimators"
   ]
  },
  {
   "cell_type": "markdown",
   "metadata": {},
   "source": [
    "#### Naive Bayes Estimators"
   ]
  },
  {
   "cell_type": "code",
   "execution_count": 31,
   "metadata": {
    "collapsed": false
   },
   "outputs": [
    {
     "data": {
      "text/plain": [
       "GridSearchCV(cv=StratifiedKFold(n_splits=10, random_state=0, shuffle=False),\n",
       "       error_score='raise',\n",
       "       estimator=Pipeline(steps=[('vt', VarianceThreshold(threshold=0.0)), ('clf', GaussianNB(priors=None))]),\n",
       "       fit_params={}, iid=True, n_jobs=4,\n",
       "       param_grid={'vt__threshold': [0, 0.0475, 0.09000000000000001, 0.1275], 'clf__priors': [None]},\n",
       "       pre_dispatch='2*n_jobs', refit=True, return_train_score=True,\n",
       "       scoring='roc_auc', verbose=0)"
      ]
     },
     "execution_count": 31,
     "metadata": {},
     "output_type": "execute_result"
    }
   ],
   "source": [
    "nb_clf_est_b.fit(X_train,y_train)"
   ]
  },
  {
   "cell_type": "code",
   "execution_count": 93,
   "metadata": {
    "collapsed": false
   },
   "outputs": [
    {
     "data": {
      "text/plain": [
       "['./other_output/nb_clf_est_b.pkl']"
      ]
     },
     "execution_count": 93,
     "metadata": {},
     "output_type": "execute_result"
    }
   ],
   "source": [
    "joblib.dump(nb_clf_est_b, './other_output/nb_clf_est_b.pkl')"
   ]
  },
  {
   "cell_type": "code",
   "execution_count": 84,
   "metadata": {
    "collapsed": false
   },
   "outputs": [
    {
     "data": {
      "text/plain": [
       "GridSearchCV(cv=StratifiedKFold(n_splits=10, random_state=0, shuffle=False),\n",
       "       error_score='raise',\n",
       "       estimator=Pipeline(steps=[('ros', RandomOverSampler(random_state=0, ratio='auto')), ('vt', VarianceThreshold(threshold=0.0)), ('clf', GaussianNB(priors=None))]),\n",
       "       fit_params={}, iid=True, n_jobs=4,\n",
       "       param_grid={'vt__threshold': [0, 0.0475, 0.09000000000000001, 0.1275], 'clf__priors': [None]},\n",
       "       pre_dispatch='2*n_jobs', refit=True, return_train_score=True,\n",
       "       scoring='roc_auc', verbose=0)"
      ]
     },
     "execution_count": 84,
     "metadata": {},
     "output_type": "execute_result"
    }
   ],
   "source": [
    "nb_clf_est_ros.fit(X_train,y_train)"
   ]
  },
  {
   "cell_type": "code",
   "execution_count": 94,
   "metadata": {
    "collapsed": false
   },
   "outputs": [
    {
     "data": {
      "text/plain": [
       "['./other_output/nb_clf_est_ros.pkl']"
      ]
     },
     "execution_count": 94,
     "metadata": {},
     "output_type": "execute_result"
    }
   ],
   "source": [
    "joblib.dump(nb_clf_est_ros, './other_output/nb_clf_est_ros.pkl')"
   ]
  },
  {
   "cell_type": "code",
   "execution_count": 85,
   "metadata": {
    "collapsed": false
   },
   "outputs": [
    {
     "data": {
      "text/plain": [
       "GridSearchCV(cv=StratifiedKFold(n_splits=10, random_state=0, shuffle=False),\n",
       "       error_score='raise',\n",
       "       estimator=Pipeline(steps=[('smote', SMOTE(k=5, kind='regular', m=10, n_jobs=-1, out_step=0.5, random_state=0,\n",
       "   ratio='auto')), ('vt', VarianceThreshold(threshold=0.0)), ('clf', GaussianNB(priors=None))]),\n",
       "       fit_params={}, iid=True, n_jobs=4,\n",
       "       param_grid={'vt__threshold': [0, 0.0475, 0.09000000000000001, 0.1275], 'clf__priors': [None]},\n",
       "       pre_dispatch='2*n_jobs', refit=True, return_train_score=True,\n",
       "       scoring='roc_auc', verbose=0)"
      ]
     },
     "execution_count": 85,
     "metadata": {},
     "output_type": "execute_result"
    }
   ],
   "source": [
    "nb_clf_est_smote.fit(X_train,y_train)"
   ]
  },
  {
   "cell_type": "code",
   "execution_count": 95,
   "metadata": {
    "collapsed": false
   },
   "outputs": [
    {
     "data": {
      "text/plain": [
       "['./other_output/nb_clf_est_smote.pkl']"
      ]
     },
     "execution_count": 95,
     "metadata": {},
     "output_type": "execute_result"
    }
   ],
   "source": [
    "joblib.dump(nb_clf_est_smote, './other_output/nb_clf_est_smote.pkl')"
   ]
  },
  {
   "cell_type": "code",
   "execution_count": 86,
   "metadata": {
    "collapsed": false
   },
   "outputs": [
    {
     "data": {
      "text/plain": [
       "GridSearchCV(cv=StratifiedKFold(n_splits=10, random_state=0, shuffle=False),\n",
       "       error_score='raise',\n",
       "       estimator=Pipeline(steps=[('rus', RandomUnderSampler(random_state=0, ratio='auto', replacement=True,\n",
       "          return_indices=False)), ('vt', VarianceThreshold(threshold=0.0)), ('clf', GaussianNB(priors=None))]),\n",
       "       fit_params={}, iid=True, n_jobs=4,\n",
       "       param_grid={'vt__threshold': [0, 0.0475, 0.09000000000000001, 0.1275], 'clf__priors': [None]},\n",
       "       pre_dispatch='2*n_jobs', refit=True, return_train_score=True,\n",
       "       scoring='roc_auc', verbose=0)"
      ]
     },
     "execution_count": 86,
     "metadata": {},
     "output_type": "execute_result"
    }
   ],
   "source": [
    "nb_clf_est_rus.fit(X_train,y_train)"
   ]
  },
  {
   "cell_type": "code",
   "execution_count": 96,
   "metadata": {
    "collapsed": false
   },
   "outputs": [
    {
     "data": {
      "text/plain": [
       "['./other_output/nb_clf_est_rus.pkl']"
      ]
     },
     "execution_count": 96,
     "metadata": {},
     "output_type": "execute_result"
    }
   ],
   "source": [
    "joblib.dump(nb_clf_est_rus, './other_output/nb_clf_est_rus.pkl')"
   ]
  },
  {
   "cell_type": "code",
   "execution_count": 87,
   "metadata": {
    "collapsed": false
   },
   "outputs": [
    {
     "data": {
      "text/plain": [
       "GridSearchCV(cv=StratifiedKFold(n_splits=10, random_state=0, shuffle=False),\n",
       "       error_score='raise',\n",
       "       estimator=Pipeline(steps=[('tl', TomekLinks(n_jobs=-1, random_state=0, return_indices=False)), ('vt', VarianceThreshold(threshold=0.0)), ('clf', GaussianNB(priors=None))]),\n",
       "       fit_params={}, iid=True, n_jobs=4,\n",
       "       param_grid={'vt__threshold': [0, 0.0475, 0.09000000000000001, 0.1275], 'clf__priors': [None]},\n",
       "       pre_dispatch='2*n_jobs', refit=True, return_train_score=True,\n",
       "       scoring='roc_auc', verbose=0)"
      ]
     },
     "execution_count": 87,
     "metadata": {},
     "output_type": "execute_result"
    }
   ],
   "source": [
    "nb_clf_est_tl.fit(X_train,y_train)"
   ]
  },
  {
   "cell_type": "code",
   "execution_count": 97,
   "metadata": {
    "collapsed": false
   },
   "outputs": [
    {
     "data": {
      "text/plain": [
       "['./other_output/nb_clf_est_tl.pkl']"
      ]
     },
     "execution_count": 97,
     "metadata": {},
     "output_type": "execute_result"
    }
   ],
   "source": [
    "joblib.dump(nb_clf_est_tl, './other_output/nb_clf_est_tl.pkl')"
   ]
  },
  {
   "cell_type": "markdown",
   "metadata": {},
   "source": [
    "#### QDA Estimators"
   ]
  },
  {
   "cell_type": "code",
   "execution_count": null,
   "metadata": {
    "collapsed": false
   },
   "outputs": [],
   "source": [
    "qda_clf_est_b.fit(X_train,y_train)"
   ]
  },
  {
   "cell_type": "code",
   "execution_count": 98,
   "metadata": {
    "collapsed": false
   },
   "outputs": [
    {
     "data": {
      "text/plain": [
       "['./other_output/qda_clf_est_b.pkl']"
      ]
     },
     "execution_count": 98,
     "metadata": {},
     "output_type": "execute_result"
    }
   ],
   "source": [
    "joblib.dump(qda_clf_est_b, './other_output/qda_clf_est_b.pkl')"
   ]
  },
  {
   "cell_type": "code",
   "execution_count": null,
   "metadata": {
    "collapsed": false
   },
   "outputs": [],
   "source": [
    "qda_clf_est_ros.fit(X_train,y_train)"
   ]
  },
  {
   "cell_type": "code",
   "execution_count": 99,
   "metadata": {
    "collapsed": false
   },
   "outputs": [
    {
     "data": {
      "text/plain": [
       "['./other_output/qda_clf_est_ros.pkl']"
      ]
     },
     "execution_count": 99,
     "metadata": {},
     "output_type": "execute_result"
    }
   ],
   "source": [
    "joblib.dump(qda_clf_est_ros, './other_output/qda_clf_est_ros.pkl')"
   ]
  },
  {
   "cell_type": "code",
   "execution_count": null,
   "metadata": {
    "collapsed": false
   },
   "outputs": [],
   "source": [
    "qda_clf_est_smote.fit(X_train,y_train)"
   ]
  },
  {
   "cell_type": "code",
   "execution_count": 100,
   "metadata": {
    "collapsed": false
   },
   "outputs": [
    {
     "data": {
      "text/plain": [
       "['./other_output/qda_clf_est_smote.pkl']"
      ]
     },
     "execution_count": 100,
     "metadata": {},
     "output_type": "execute_result"
    }
   ],
   "source": [
    "joblib.dump(qda_clf_est_smote, './other_output/qda_clf_est_smote.pkl')"
   ]
  },
  {
   "cell_type": "code",
   "execution_count": null,
   "metadata": {
    "collapsed": false
   },
   "outputs": [],
   "source": [
    "qda_clf_est_rus.fit(X_train,y_train)"
   ]
  },
  {
   "cell_type": "code",
   "execution_count": 139,
   "metadata": {
    "collapsed": false
   },
   "outputs": [
    {
     "data": {
      "text/plain": [
       "['./other_output/qda_clf_est_rus.pkl']"
      ]
     },
     "execution_count": 139,
     "metadata": {},
     "output_type": "execute_result"
    }
   ],
   "source": [
    "joblib.dump(qda_clf_est_rus, './other_output/qda_clf_est_rus.pkl')"
   ]
  },
  {
   "cell_type": "code",
   "execution_count": null,
   "metadata": {
    "collapsed": false
   },
   "outputs": [],
   "source": [
    "qda_clf_est_tl.fit(X_train,y_train)"
   ]
  },
  {
   "cell_type": "code",
   "execution_count": 102,
   "metadata": {
    "collapsed": false
   },
   "outputs": [
    {
     "data": {
      "text/plain": [
       "['./other_output/qda_clf_est_tl.pkl']"
      ]
     },
     "execution_count": 102,
     "metadata": {},
     "output_type": "execute_result"
    }
   ],
   "source": [
    "joblib.dump(qda_clf_est_tl, './other_output/qda_clf_est_tl.pkl')"
   ]
  },
  {
   "cell_type": "markdown",
   "metadata": {},
   "source": [
    "#### Logistic Estimators"
   ]
  },
  {
   "cell_type": "code",
   "execution_count": 52,
   "metadata": {
    "collapsed": false
   },
   "outputs": [
    {
     "data": {
      "text/plain": [
       "GridSearchCV(cv=StratifiedKFold(n_splits=10, random_state=0, shuffle=False),\n",
       "       error_score='raise',\n",
       "       estimator=Pipeline(steps=[('vt', VarianceThreshold(threshold=0.0)), ('clf', LogisticRegression(C=1.0, class_weight=None, dual=False, fit_intercept=True,\n",
       "          intercept_scaling=1, max_iter=100, multi_class='ovr', n_jobs=1,\n",
       "          penalty='l2', random_state=None, solver='liblinear', tol=0.0001,\n",
       "          verbose=0, warm_start=False))]),\n",
       "       fit_params={}, iid=True, n_jobs=4,\n",
       "       param_grid={'clf__class_weight': ['balanced', {1: 1}, {1: 2}, {1: 10}], 'clf__C': [0.001, 0.01, 10, 100, 1000], 'vt__threshold': [0, 0.0475, 0.09000000000000001, 0.1275]},\n",
       "       pre_dispatch='2*n_jobs', refit=True, return_train_score=True,\n",
       "       scoring='roc_auc', verbose=0)"
      ]
     },
     "execution_count": 52,
     "metadata": {},
     "output_type": "execute_result"
    }
   ],
   "source": [
    "log_clf_est_b.fit(X_train,y_train)"
   ]
  },
  {
   "cell_type": "code",
   "execution_count": 103,
   "metadata": {
    "collapsed": false
   },
   "outputs": [
    {
     "data": {
      "text/plain": [
       "['./other_output/log_clf_est_b.pkl']"
      ]
     },
     "execution_count": 103,
     "metadata": {},
     "output_type": "execute_result"
    }
   ],
   "source": [
    "joblib.dump(log_clf_est_b, './other_output/log_clf_est_b.pkl')"
   ]
  },
  {
   "cell_type": "code",
   "execution_count": 121,
   "metadata": {
    "collapsed": false
   },
   "outputs": [
    {
     "data": {
      "text/plain": [
       "GridSearchCV(cv=StratifiedKFold(n_splits=10, random_state=0, shuffle=False),\n",
       "       error_score='raise',\n",
       "       estimator=Pipeline(steps=[('ros', RandomOverSampler(random_state=0, ratio='auto')), ('vt', VarianceThreshold(threshold=0.0)), ('clf', LogisticRegression(C=1.0, class_weight=None, dual=False, fit_intercept=True,\n",
       "          intercept_scaling=1, max_iter=100, multi_class='ovr', n_jobs=1,\n",
       "          penalty='l2', random_state=None, solver='liblinear', tol=0.0001,\n",
       "          verbose=0, warm_start=False))]),\n",
       "       fit_params={}, iid=True, n_jobs=4,\n",
       "       param_grid={'clf__class_weight': ['balanced', {1: 1}, {1: 2}, {1: 10}], 'clf__C': [0.001, 0.01, 10, 100, 1000], 'vt__threshold': [0, 0.0475, 0.09000000000000001, 0.1275]},\n",
       "       pre_dispatch='2*n_jobs', refit=True, return_train_score=True,\n",
       "       scoring='roc_auc', verbose=0)"
      ]
     },
     "execution_count": 121,
     "metadata": {},
     "output_type": "execute_result"
    }
   ],
   "source": [
    "log_clf_est_ros.fit(X_train,y_train)"
   ]
  },
  {
   "cell_type": "code",
   "execution_count": 122,
   "metadata": {
    "collapsed": false
   },
   "outputs": [
    {
     "data": {
      "text/plain": [
       "['./other_output/log_clf_est_ros.pkl']"
      ]
     },
     "execution_count": 122,
     "metadata": {},
     "output_type": "execute_result"
    }
   ],
   "source": [
    "joblib.dump(log_clf_est_ros, './other_output/log_clf_est_ros.pkl')"
   ]
  },
  {
   "cell_type": "code",
   "execution_count": 123,
   "metadata": {
    "collapsed": false
   },
   "outputs": [
    {
     "data": {
      "text/plain": [
       "GridSearchCV(cv=StratifiedKFold(n_splits=10, random_state=0, shuffle=False),\n",
       "       error_score='raise',\n",
       "       estimator=Pipeline(steps=[('smote', SMOTE(k=5, kind='regular', m=10, n_jobs=-1, out_step=0.5, random_state=0,\n",
       "   ratio='auto')), ('vt', VarianceThreshold(threshold=0.0)), ('clf', LogisticRegression(C=1.0, class_weight=None, dual=False, fit_intercept=True,\n",
       "          intercept_scaling=1, max_iter=100, multi_class='ovr', n_jobs=1,\n",
       "          penalty='l2', random_state=None, solver='liblinear', tol=0.0001,\n",
       "          verbose=0, warm_start=False))]),\n",
       "       fit_params={}, iid=True, n_jobs=4,\n",
       "       param_grid={'clf__class_weight': ['balanced', {1: 1}, {1: 2}, {1: 10}], 'clf__C': [0.001, 0.01, 10, 100, 1000], 'vt__threshold': [0, 0.0475, 0.09000000000000001, 0.1275]},\n",
       "       pre_dispatch='2*n_jobs', refit=True, return_train_score=True,\n",
       "       scoring='roc_auc', verbose=0)"
      ]
     },
     "execution_count": 123,
     "metadata": {},
     "output_type": "execute_result"
    }
   ],
   "source": [
    "log_clf_est_smote.fit(X_train,y_train)"
   ]
  },
  {
   "cell_type": "code",
   "execution_count": 124,
   "metadata": {
    "collapsed": false
   },
   "outputs": [
    {
     "data": {
      "text/plain": [
       "['./other_output/log_clf_est_smote.pkl']"
      ]
     },
     "execution_count": 124,
     "metadata": {},
     "output_type": "execute_result"
    }
   ],
   "source": [
    "joblib.dump(log_clf_est_smote, './other_output/log_clf_est_smote.pkl')"
   ]
  },
  {
   "cell_type": "code",
   "execution_count": 125,
   "metadata": {
    "collapsed": false
   },
   "outputs": [
    {
     "data": {
      "text/plain": [
       "GridSearchCV(cv=StratifiedKFold(n_splits=10, random_state=0, shuffle=False),\n",
       "       error_score='raise',\n",
       "       estimator=Pipeline(steps=[('rus', RandomUnderSampler(random_state=0, ratio='auto', replacement=True,\n",
       "          return_indices=False)), ('vt', VarianceThreshold(threshold=0.0)), ('clf', LogisticRegression(C=1.0, class_weight=None, dual=False, fit_intercept=True,\n",
       "          intercept_scaling=1, max_iter=100, multi_class='ovr', n_jobs=1,\n",
       "          penalty='l2', random_state=None, solver='liblinear', tol=0.0001,\n",
       "          verbose=0, warm_start=False))]),\n",
       "       fit_params={}, iid=True, n_jobs=4,\n",
       "       param_grid={'clf__class_weight': ['balanced', {1: 1}, {1: 2}, {1: 10}], 'clf__C': [0.001, 0.01, 10, 100, 1000], 'vt__threshold': [0, 0.0475, 0.09000000000000001, 0.1275]},\n",
       "       pre_dispatch='2*n_jobs', refit=True, return_train_score=True,\n",
       "       scoring='roc_auc', verbose=0)"
      ]
     },
     "execution_count": 125,
     "metadata": {},
     "output_type": "execute_result"
    }
   ],
   "source": [
    "log_clf_est_rus.fit(X_train,y_train)"
   ]
  },
  {
   "cell_type": "code",
   "execution_count": 126,
   "metadata": {
    "collapsed": false
   },
   "outputs": [
    {
     "data": {
      "text/plain": [
       "['./other_output/log_clf_est_rus.pkl']"
      ]
     },
     "execution_count": 126,
     "metadata": {},
     "output_type": "execute_result"
    }
   ],
   "source": [
    "joblib.dump(log_clf_est_rus, './other_output/log_clf_est_rus.pkl')"
   ]
  },
  {
   "cell_type": "code",
   "execution_count": 127,
   "metadata": {
    "collapsed": false
   },
   "outputs": [
    {
     "data": {
      "text/plain": [
       "GridSearchCV(cv=StratifiedKFold(n_splits=10, random_state=0, shuffle=False),\n",
       "       error_score='raise',\n",
       "       estimator=Pipeline(steps=[('tl', TomekLinks(n_jobs=-1, random_state=0, return_indices=False)), ('vt', VarianceThreshold(threshold=0.0)), ('clf', LogisticRegression(C=1.0, class_weight=None, dual=False, fit_intercept=True,\n",
       "          intercept_scaling=1, max_iter=100, multi_class='ovr', n_jobs=1,\n",
       "          penalty='l2', random_state=None, solver='liblinear', tol=0.0001,\n",
       "          verbose=0, warm_start=False))]),\n",
       "       fit_params={}, iid=True, n_jobs=4,\n",
       "       param_grid={'clf__class_weight': ['balanced', {1: 1}, {1: 2}, {1: 10}], 'clf__C': [0.001, 0.01, 10, 100, 1000], 'vt__threshold': [0, 0.0475, 0.09000000000000001, 0.1275]},\n",
       "       pre_dispatch='2*n_jobs', refit=True, return_train_score=True,\n",
       "       scoring='roc_auc', verbose=0)"
      ]
     },
     "execution_count": 127,
     "metadata": {},
     "output_type": "execute_result"
    }
   ],
   "source": [
    "log_clf_est_tl.fit(X_train,y_train)"
   ]
  },
  {
   "cell_type": "code",
   "execution_count": 128,
   "metadata": {
    "collapsed": false
   },
   "outputs": [
    {
     "data": {
      "text/plain": [
       "['./other_output/log_clf_est_tl.pkl']"
      ]
     },
     "execution_count": 128,
     "metadata": {},
     "output_type": "execute_result"
    }
   ],
   "source": [
    "joblib.dump(log_clf_est_tl, './other_output/log_clf_est_tl.pkl')"
   ]
  },
  {
   "cell_type": "markdown",
   "metadata": {},
   "source": [
    "#### KNN Estimators"
   ]
  },
  {
   "cell_type": "code",
   "execution_count": 43,
   "metadata": {
    "collapsed": false
   },
   "outputs": [
    {
     "data": {
      "text/plain": [
       "GridSearchCV(cv=StratifiedKFold(n_splits=10, random_state=0, shuffle=False),\n",
       "       error_score='raise',\n",
       "       estimator=Pipeline(steps=[('vt', VarianceThreshold(threshold=0.0)), ('clf', KNeighborsClassifier(algorithm='auto', leaf_size=30, metric='minkowski',\n",
       "           metric_params=None, n_jobs=1, n_neighbors=5, p=2,\n",
       "           weights='uniform'))]),\n",
       "       fit_params={}, iid=True, n_jobs=4,\n",
       "       param_grid={'clf__weights': ['uniform', 'distance'], 'vt__threshold': [0, 0.0475, 0.09000000000000001, 0.1275], 'clf__n_neighbors': [1, 3, 5, 7, 9, 11, 13, 15]},\n",
       "       pre_dispatch='2*n_jobs', refit=True, return_train_score=True,\n",
       "       scoring='roc_auc', verbose=0)"
      ]
     },
     "execution_count": 43,
     "metadata": {},
     "output_type": "execute_result"
    }
   ],
   "source": [
    "knn_clf_est_b.fit(X_train,y_train)"
   ]
  },
  {
   "cell_type": "code",
   "execution_count": 149,
   "metadata": {
    "collapsed": false
   },
   "outputs": [
    {
     "data": {
      "text/plain": [
       "['./other_output/knn_clf_est_b.pkl']"
      ]
     },
     "execution_count": 149,
     "metadata": {},
     "output_type": "execute_result"
    }
   ],
   "source": [
    "joblib.dump(knn_clf_est_b, './other_output/knn_clf_est_b.pkl')"
   ]
  },
  {
   "cell_type": "code",
   "execution_count": 150,
   "metadata": {
    "collapsed": false
   },
   "outputs": [
    {
     "data": {
      "text/plain": [
       "GridSearchCV(cv=StratifiedKFold(n_splits=10, random_state=0, shuffle=False),\n",
       "       error_score='raise',\n",
       "       estimator=Pipeline(steps=[('ros', RandomOverSampler(random_state=0, ratio='auto')), ('vt', VarianceThreshold(threshold=0.0)), ('clf', KNeighborsClassifier(algorithm='auto', leaf_size=30, metric='minkowski',\n",
       "           metric_params=None, n_jobs=4, n_neighbors=5, p=2,\n",
       "           weights='uniform'))]),\n",
       "       fit_params={}, iid=True, n_jobs=4,\n",
       "       param_grid={'clf__weights': ['uniform', 'distance'], 'vt__threshold': [0, 0.0475, 0.09000000000000001, 0.1275], 'clf__n_neighbors': [1, 3, 5, 7, 9, 11, 13, 15]},\n",
       "       pre_dispatch='2*n_jobs', refit=True, return_train_score=True,\n",
       "       scoring='roc_auc', verbose=0)"
      ]
     },
     "execution_count": 150,
     "metadata": {},
     "output_type": "execute_result"
    }
   ],
   "source": [
    "knn_clf_est_ros.fit(X_train,y_train)"
   ]
  },
  {
   "cell_type": "code",
   "execution_count": 151,
   "metadata": {
    "collapsed": false
   },
   "outputs": [
    {
     "data": {
      "text/plain": [
       "['./other_output/knn_clf_est_ros.pkl']"
      ]
     },
     "execution_count": 151,
     "metadata": {},
     "output_type": "execute_result"
    }
   ],
   "source": [
    "joblib.dump(knn_clf_est_ros, './other_output/knn_clf_est_ros.pkl')"
   ]
  },
  {
   "cell_type": "code",
   "execution_count": 152,
   "metadata": {
    "collapsed": false
   },
   "outputs": [
    {
     "data": {
      "text/plain": [
       "GridSearchCV(cv=StratifiedKFold(n_splits=10, random_state=0, shuffle=False),\n",
       "       error_score='raise',\n",
       "       estimator=Pipeline(steps=[('smote', SMOTE(k=5, kind='regular', m=10, n_jobs=-1, out_step=0.5, random_state=0,\n",
       "   ratio='auto')), ('vt', VarianceThreshold(threshold=0.0)), ('clf', KNeighborsClassifier(algorithm='auto', leaf_size=30, metric='minkowski',\n",
       "           metric_params=None, n_jobs=4, n_neighbors=5, p=2,\n",
       "           weights='uniform'))]),\n",
       "       fit_params={}, iid=True, n_jobs=4,\n",
       "       param_grid={'clf__weights': ['uniform', 'distance'], 'vt__threshold': [0, 0.0475, 0.09000000000000001, 0.1275], 'clf__n_neighbors': [1, 3, 5, 7, 9, 11, 13, 15]},\n",
       "       pre_dispatch='2*n_jobs', refit=True, return_train_score=True,\n",
       "       scoring='roc_auc', verbose=0)"
      ]
     },
     "execution_count": 152,
     "metadata": {},
     "output_type": "execute_result"
    }
   ],
   "source": [
    "knn_clf_est_smote.fit(X_train,y_train)"
   ]
  },
  {
   "cell_type": "code",
   "execution_count": 153,
   "metadata": {
    "collapsed": false
   },
   "outputs": [
    {
     "data": {
      "text/plain": [
       "['./other_output/knn_clf_est_smote.pkl']"
      ]
     },
     "execution_count": 153,
     "metadata": {},
     "output_type": "execute_result"
    }
   ],
   "source": [
    "joblib.dump(knn_clf_est_smote, './other_output/knn_clf_est_smote.pkl')"
   ]
  },
  {
   "cell_type": "code",
   "execution_count": 154,
   "metadata": {
    "collapsed": false
   },
   "outputs": [
    {
     "data": {
      "text/plain": [
       "GridSearchCV(cv=StratifiedKFold(n_splits=10, random_state=0, shuffle=False),\n",
       "       error_score='raise',\n",
       "       estimator=Pipeline(steps=[('rus', RandomUnderSampler(random_state=0, ratio='auto', replacement=True,\n",
       "          return_indices=False)), ('vt', VarianceThreshold(threshold=0.0)), ('clf', KNeighborsClassifier(algorithm='auto', leaf_size=30, metric='minkowski',\n",
       "           metric_params=None, n_jobs=4, n_neighbors=5, p=2,\n",
       "           weights='uniform'))]),\n",
       "       fit_params={}, iid=True, n_jobs=4,\n",
       "       param_grid={'clf__weights': ['uniform', 'distance'], 'vt__threshold': [0, 0.0475, 0.09000000000000001, 0.1275], 'clf__n_neighbors': [1, 3, 5, 7, 9, 11, 13, 15]},\n",
       "       pre_dispatch='2*n_jobs', refit=True, return_train_score=True,\n",
       "       scoring='roc_auc', verbose=0)"
      ]
     },
     "execution_count": 154,
     "metadata": {},
     "output_type": "execute_result"
    }
   ],
   "source": [
    "knn_clf_est_rus.fit(X_train,y_train)"
   ]
  },
  {
   "cell_type": "code",
   "execution_count": 155,
   "metadata": {
    "collapsed": false
   },
   "outputs": [
    {
     "data": {
      "text/plain": [
       "['./other_output/knn_clf_est_rus.pkl']"
      ]
     },
     "execution_count": 155,
     "metadata": {},
     "output_type": "execute_result"
    }
   ],
   "source": [
    "joblib.dump(knn_clf_est_rus, './other_output/knn_clf_est_rus.pkl')"
   ]
  },
  {
   "cell_type": "code",
   "execution_count": 156,
   "metadata": {
    "collapsed": false
   },
   "outputs": [
    {
     "data": {
      "text/plain": [
       "GridSearchCV(cv=StratifiedKFold(n_splits=10, random_state=0, shuffle=False),\n",
       "       error_score='raise',\n",
       "       estimator=Pipeline(steps=[('tl', TomekLinks(n_jobs=-1, random_state=0, return_indices=False)), ('vt', VarianceThreshold(threshold=0.0)), ('clf', KNeighborsClassifier(algorithm='auto', leaf_size=30, metric='minkowski',\n",
       "           metric_params=None, n_jobs=4, n_neighbors=5, p=2,\n",
       "           weights='uniform'))]),\n",
       "       fit_params={}, iid=True, n_jobs=4,\n",
       "       param_grid={'clf__weights': ['uniform', 'distance'], 'vt__threshold': [0, 0.0475, 0.09000000000000001, 0.1275], 'clf__n_neighbors': [1, 3, 5, 7, 9, 11, 13, 15]},\n",
       "       pre_dispatch='2*n_jobs', refit=True, return_train_score=True,\n",
       "       scoring='roc_auc', verbose=0)"
      ]
     },
     "execution_count": 156,
     "metadata": {},
     "output_type": "execute_result"
    }
   ],
   "source": [
    "knn_clf_est_tl.fit(X_train,y_train)"
   ]
  },
  {
   "cell_type": "code",
   "execution_count": 157,
   "metadata": {
    "collapsed": false
   },
   "outputs": [
    {
     "data": {
      "text/plain": [
       "['./other_output/knn_clf_est_tl.pkl']"
      ]
     },
     "execution_count": 157,
     "metadata": {},
     "output_type": "execute_result"
    }
   ],
   "source": [
    "joblib.dump(knn_clf_est_tl, './other_output/knn_clf_est_tl.pkl')"
   ]
  },
  {
   "cell_type": "markdown",
   "metadata": {},
   "source": [
    "#### Random Forest Estimators"
   ]
  },
  {
   "cell_type": "code",
   "execution_count": 293,
   "metadata": {
    "collapsed": false
   },
   "outputs": [
    {
     "data": {
      "text/plain": [
       "GridSearchCV(cv=StratifiedKFold(n_splits=10, random_state=0, shuffle=False),\n",
       "       error_score='raise',\n",
       "       estimator=Pipeline(steps=[('vt', VarianceThreshold(threshold=0.0)), ('clf', RandomForestClassifier(bootstrap=True, class_weight=None, criterion='gini',\n",
       "            max_depth=None, max_features='auto', max_leaf_nodes=None,\n",
       "            min_impurity_split=1e-07, min_samples_leaf=1,\n",
       "            min_samples_split=2, min_weight_fraction_leaf=0.0,\n",
       "            n_estimators=10, n_jobs=1, oob_score=False, random_state=None,\n",
       "            verbose=0, warm_start=False))]),\n",
       "       fit_params={}, iid=True, n_jobs=4,\n",
       "       param_grid={'clf__class_weight': ['balanced', {1: 1}, {1: 2}, {1: 10}], 'clf__max_features': [0.1, 0.3, 0.5], 'vt__threshold': [0, 0.0475, 0.09000000000000001, 0.1275], 'clf__n_estimators': [100]},\n",
       "       pre_dispatch='2*n_jobs', refit=True, return_train_score=True,\n",
       "       scoring='roc_auc', verbose=0)"
      ]
     },
     "execution_count": 293,
     "metadata": {},
     "output_type": "execute_result"
    }
   ],
   "source": [
    "rf_clf_est_b.fit(X_train,y_train)"
   ]
  },
  {
   "cell_type": "code",
   "execution_count": 302,
   "metadata": {
    "collapsed": false
   },
   "outputs": [
    {
     "data": {
      "text/plain": [
       "['./other_output/rf_clf_est_b.pkl']"
      ]
     },
     "execution_count": 302,
     "metadata": {},
     "output_type": "execute_result"
    }
   ],
   "source": [
    "joblib.dump(rf_clf_est_b, './other_output/rf_clf_est_b.pkl')"
   ]
  },
  {
   "cell_type": "code",
   "execution_count": 303,
   "metadata": {
    "collapsed": false
   },
   "outputs": [
    {
     "data": {
      "text/plain": [
       "GridSearchCV(cv=StratifiedKFold(n_splits=10, random_state=0, shuffle=False),\n",
       "       error_score='raise',\n",
       "       estimator=Pipeline(steps=[('ros', RandomOverSampler(random_state=0, ratio='auto')), ('vt', VarianceThreshold(threshold=0.0)), ('clf', RandomForestClassifier(bootstrap=True, class_weight=None, criterion='gini',\n",
       "            max_depth=None, max_features='auto', max_leaf_nodes=None,\n",
       "            min_impu...mators=10, n_jobs=1, oob_score=False, random_state=None,\n",
       "            verbose=0, warm_start=False))]),\n",
       "       fit_params={}, iid=True, n_jobs=4,\n",
       "       param_grid={'clf__class_weight': ['balanced', {1: 1}, {1: 2}, {1: 10}], 'clf__max_features': [0.1, 0.3, 0.5], 'vt__threshold': [0, 0.0475, 0.09000000000000001, 0.1275], 'clf__n_estimators': [100]},\n",
       "       pre_dispatch='2*n_jobs', refit=True, return_train_score=True,\n",
       "       scoring='roc_auc', verbose=0)"
      ]
     },
     "execution_count": 303,
     "metadata": {},
     "output_type": "execute_result"
    }
   ],
   "source": [
    "rf_clf_est_ros.fit(X_train,y_train)"
   ]
  },
  {
   "cell_type": "code",
   "execution_count": 304,
   "metadata": {
    "collapsed": false
   },
   "outputs": [
    {
     "data": {
      "text/plain": [
       "['./other_output/rf_clf_est_ros.pkl']"
      ]
     },
     "execution_count": 304,
     "metadata": {},
     "output_type": "execute_result"
    }
   ],
   "source": [
    "joblib.dump(rf_clf_est_ros, './other_output/rf_clf_est_ros.pkl')"
   ]
  },
  {
   "cell_type": "code",
   "execution_count": 305,
   "metadata": {
    "collapsed": false
   },
   "outputs": [
    {
     "data": {
      "text/plain": [
       "GridSearchCV(cv=StratifiedKFold(n_splits=10, random_state=0, shuffle=False),\n",
       "       error_score='raise',\n",
       "       estimator=Pipeline(steps=[('smote', SMOTE(k=5, kind='regular', m=10, n_jobs=-1, out_step=0.5, random_state=0,\n",
       "   ratio='auto')), ('vt', VarianceThreshold(threshold=0.0)), ('clf', RandomForestClassifier(bootstrap=True, class_weight=None, criterion='gini',\n",
       "            max_depth=None, max_features='auto', max_leaf_nodes=...imators=10, n_jobs=1, oob_score=False, random_state=None,\n",
       "            verbose=0, warm_start=False))]),\n",
       "       fit_params={}, iid=True, n_jobs=4,\n",
       "       param_grid={'clf__class_weight': ['balanced', {1: 1}, {1: 2}, {1: 10}], 'clf__max_features': [0.1, 0.3, 0.5], 'vt__threshold': [0, 0.0475, 0.09000000000000001, 0.1275], 'clf__n_estimators': [100]},\n",
       "       pre_dispatch='2*n_jobs', refit=True, return_train_score=True,\n",
       "       scoring='roc_auc', verbose=0)"
      ]
     },
     "execution_count": 305,
     "metadata": {},
     "output_type": "execute_result"
    }
   ],
   "source": [
    "rf_clf_est_smote.fit(X_train,y_train)"
   ]
  },
  {
   "cell_type": "code",
   "execution_count": 306,
   "metadata": {
    "collapsed": false
   },
   "outputs": [
    {
     "data": {
      "text/plain": [
       "['./other_output/rf_clf_est_smote.pkl']"
      ]
     },
     "execution_count": 306,
     "metadata": {},
     "output_type": "execute_result"
    }
   ],
   "source": [
    "joblib.dump(rf_clf_est_smote, './other_output/rf_clf_est_smote.pkl')"
   ]
  },
  {
   "cell_type": "code",
   "execution_count": 307,
   "metadata": {
    "collapsed": false
   },
   "outputs": [
    {
     "data": {
      "text/plain": [
       "GridSearchCV(cv=StratifiedKFold(n_splits=10, random_state=0, shuffle=False),\n",
       "       error_score='raise',\n",
       "       estimator=Pipeline(steps=[('rus', RandomUnderSampler(random_state=0, ratio='auto', replacement=True,\n",
       "          return_indices=False)), ('vt', VarianceThreshold(threshold=0.0)), ('clf', RandomForestClassifier(bootstrap=True, class_weight=None, criterion='gini',\n",
       "            max_depth=None, max_features='auto', max_leaf_...imators=10, n_jobs=1, oob_score=False, random_state=None,\n",
       "            verbose=0, warm_start=False))]),\n",
       "       fit_params={}, iid=True, n_jobs=4,\n",
       "       param_grid={'clf__class_weight': ['balanced', {1: 1}, {1: 2}, {1: 10}], 'clf__max_features': [0.1, 0.3, 0.5], 'vt__threshold': [0, 0.0475, 0.09000000000000001, 0.1275], 'clf__n_estimators': [100]},\n",
       "       pre_dispatch='2*n_jobs', refit=True, return_train_score=True,\n",
       "       scoring='roc_auc', verbose=0)"
      ]
     },
     "execution_count": 307,
     "metadata": {},
     "output_type": "execute_result"
    }
   ],
   "source": [
    "rf_clf_est_rus.fit(X_train,y_train)"
   ]
  },
  {
   "cell_type": "code",
   "execution_count": 308,
   "metadata": {
    "collapsed": false
   },
   "outputs": [
    {
     "data": {
      "text/plain": [
       "['./other_output/rf_clf_est_rus.pkl']"
      ]
     },
     "execution_count": 308,
     "metadata": {},
     "output_type": "execute_result"
    }
   ],
   "source": [
    "joblib.dump(rf_clf_est_rus, './other_output/rf_clf_est_rus.pkl')"
   ]
  },
  {
   "cell_type": "code",
   "execution_count": 309,
   "metadata": {
    "collapsed": false
   },
   "outputs": [
    {
     "data": {
      "text/plain": [
       "GridSearchCV(cv=StratifiedKFold(n_splits=10, random_state=0, shuffle=False),\n",
       "       error_score='raise',\n",
       "       estimator=Pipeline(steps=[('tl', TomekLinks(n_jobs=-1, random_state=0, return_indices=False)), ('vt', VarianceThreshold(threshold=0.0)), ('clf', RandomForestClassifier(bootstrap=True, class_weight=None, criterion='gini',\n",
       "            max_depth=None, max_features='auto', max_leaf_nodes=None,\n",
       "            min_impurity_spl...imators=10, n_jobs=1, oob_score=False, random_state=None,\n",
       "            verbose=0, warm_start=False))]),\n",
       "       fit_params={}, iid=True, n_jobs=4,\n",
       "       param_grid={'clf__class_weight': ['balanced', {1: 1}, {1: 2}, {1: 10}], 'clf__max_features': [0.1, 0.3, 0.5], 'vt__threshold': [0, 0.0475, 0.09000000000000001, 0.1275], 'clf__n_estimators': [100]},\n",
       "       pre_dispatch='2*n_jobs', refit=True, return_train_score=True,\n",
       "       scoring='roc_auc', verbose=0)"
      ]
     },
     "execution_count": 309,
     "metadata": {},
     "output_type": "execute_result"
    }
   ],
   "source": [
    "rf_clf_est_tl.fit(X_train,y_train)"
   ]
  },
  {
   "cell_type": "code",
   "execution_count": 310,
   "metadata": {
    "collapsed": false
   },
   "outputs": [
    {
     "data": {
      "text/plain": [
       "['./other_output/rf_clf_est_tl.pkl']"
      ]
     },
     "execution_count": 310,
     "metadata": {},
     "output_type": "execute_result"
    }
   ],
   "source": [
    "joblib.dump(rf_clf_est_tl, './other_output/rf_clf_est_tl.pkl')"
   ]
  },
  {
   "cell_type": "markdown",
   "metadata": {},
   "source": [
    "### Testing Estimators"
   ]
  },
  {
   "cell_type": "markdown",
   "metadata": {},
   "source": [
    "Below I present the ROC curves over the test data. The GridSearchCV class automatically does the work of finding the optimal hyperparameters and retraining the models on the full training dataset."
   ]
  },
  {
   "cell_type": "code",
   "execution_count": 242,
   "metadata": {
    "collapsed": true
   },
   "outputs": [],
   "source": [
    "from sklearn.metrics import roc_curve, auc"
   ]
  },
  {
   "cell_type": "markdown",
   "metadata": {},
   "source": [
    "#### Basic Estimators"
   ]
  },
  {
   "cell_type": "code",
   "execution_count": 325,
   "metadata": {
    "collapsed": false
   },
   "outputs": [],
   "source": [
    "nb_fpr, nb_tpr, _ = roc_curve(y_test, \n",
    "                    nb_clf_est_b.predict_proba(X_test)[:,1])\n",
    "nb_roc_auc = auc(nb_fpr, nb_tpr)\n",
    "\n",
    "qda_fpr, qda_tpr, _ = roc_curve(y_test, \n",
    "                    qda_clf_est_b.predict_proba(X_test)[:,1])\n",
    "qda_roc_auc = auc(qda_fpr, qda_tpr)\n",
    "\n",
    "log_fpr, log_tpr, _ = roc_curve(y_test, \n",
    "                    log_clf_est_b.predict_proba(X_test)[:,1])\n",
    "log_roc_auc = auc(log_fpr, log_tpr)\n",
    "\n",
    "knn_fpr, knn_tpr, _ = roc_curve(y_test, \n",
    "                    knn_clf_est_b.predict_proba(X_test)[:,1])\n",
    "knn_roc_auc = auc(knn_fpr, knn_tpr)\n",
    "\n",
    "rf_fpr, rf_tpr, _ = roc_curve(y_test, \n",
    "                    rf_clf_est_b.predict_proba(X_test)[:,1])\n",
    "rf_roc_auc = auc(rf_fpr, rf_tpr)"
   ]
  },
  {
   "cell_type": "code",
   "execution_count": 326,
   "metadata": {
    "collapsed": false
   },
   "outputs": [
    {
     "data": {
      "image/png": "[encoded data removed]",
      "text/plain": [
       "<matplotlib.figure.Figure at 0x7fd28ed61be0>"
      ]
     },
     "metadata": {},
     "output_type": "display_data"
    },
    {
     "data": {
      "text/plain": [
       "<matplotlib.figure.Figure at 0x7fd29c0f6588>"
      ]
     },
     "metadata": {},
     "output_type": "display_data"
    }
   ],
   "source": [
    "plt.plot(nb_fpr, nb_tpr, color='cyan', linestyle='--',\n",
    "         label='NB (area = %0.2f)' % nb_roc_auc, lw=2)\n",
    "\n",
    "plt.plot(qda_fpr, qda_tpr, color='indigo', linestyle='--',\n",
    "         label='QDA (area = %0.2f)' % qda_roc_auc, lw=2)\n",
    "\n",
    "plt.plot(log_fpr, log_tpr, color='seagreen', linestyle='--',\n",
    "         label='LOG (area = %0.2f)' % log_roc_auc, lw=2)\n",
    "\n",
    "plt.plot(knn_fpr, knn_tpr, color='yellow', linestyle='--',\n",
    "         label='KNN (area = %0.2f)' % knn_roc_auc, lw=2)\n",
    "\n",
    "plt.plot(rf_fpr, rf_tpr, color='blue', linestyle='--',\n",
    "         label='RF (area = %0.2f)' % rf_roc_auc, lw=2)\n",
    "\n",
    "plt.plot([0, 1], [0, 1], linestyle='--', lw=2, color='k',\n",
    "         label='Luck')\n",
    "\n",
    "plt.xlim([-0.05, 1.05])\n",
    "plt.ylim([-0.05, 1.05])\n",
    "plt.xlabel('False Positive Rate')\n",
    "plt.ylabel('True Positive Rate')\n",
    "plt.title('ROC Curves of Basic Models')\n",
    "plt.legend(loc=\"lower right\")\n",
    "plt.show()\n",
    "plt.savefig('./plots/ROC_Basic.png', bbox_inches='tight')"
   ]
  },
  {
   "cell_type": "markdown",
   "metadata": {},
   "source": [
    "#### Estimators with Random Oversampling of Minority Class"
   ]
  },
  {
   "cell_type": "code",
   "execution_count": 327,
   "metadata": {
    "collapsed": false
   },
   "outputs": [],
   "source": [
    "nb_fpr, nb_tpr, _ = roc_curve(y_test, \n",
    "                    nb_clf_est_ros.predict_proba(X_test)[:,1])\n",
    "nb_roc_auc = auc(nb_fpr, nb_tpr)\n",
    "\n",
    "qda_fpr, qda_tpr, _ = roc_curve(y_test, \n",
    "                    qda_clf_est_ros.predict_proba(X_test)[:,1])\n",
    "qda_roc_auc = auc(qda_fpr, qda_tpr)\n",
    "\n",
    "log_fpr, log_tpr, _ = roc_curve(y_test, \n",
    "                    log_clf_est_ros.predict_proba(X_test)[:,1])\n",
    "log_roc_auc = auc(log_fpr, log_tpr)\n",
    "\n",
    "knn_fpr, knn_tpr, _ = roc_curve(y_test, \n",
    "                    knn_clf_est_ros.predict_proba(X_test)[:,1])\n",
    "knn_roc_auc = auc(knn_fpr, knn_tpr)\n",
    "\n",
    "rf_fpr, rf_tpr, _ = roc_curve(y_test, \n",
    "                    rf_clf_est_ros.predict_proba(X_test)[:,1])\n",
    "rf_roc_auc = auc(rf_fpr, rf_tpr)"
   ]
  },
  {
   "cell_type": "code",
   "execution_count": 328,
   "metadata": {
    "collapsed": false
   },
   "outputs": [
    {
     "data": {
      "image/png": "[encoded data removed]",
      "text/plain": [
       "<matplotlib.figure.Figure at 0x7fd28f5f8160>"
      ]
     },
     "metadata": {},
     "output_type": "display_data"
    },
    {
     "data": {
      "text/plain": [
       "<matplotlib.figure.Figure at 0x7fd29c035710>"
      ]
     },
     "metadata": {},
     "output_type": "display_data"
    }
   ],
   "source": [
    "plt.plot(nb_fpr, nb_tpr, color='cyan', linestyle='--',\n",
    "         label='NB (area = %0.2f)' % nb_roc_auc, lw=2)\n",
    "\n",
    "plt.plot(qda_fpr, qda_tpr, color='indigo', linestyle='--',\n",
    "         label='QDA (area = %0.2f)' % qda_roc_auc, lw=2)\n",
    "\n",
    "plt.plot(log_fpr, log_tpr, color='seagreen', linestyle='--',\n",
    "         label='LOG (area = %0.2f)' % log_roc_auc, lw=2)\n",
    "\n",
    "plt.plot(knn_fpr, knn_tpr, color='yellow', linestyle='--',\n",
    "         label='KNN (area = %0.2f)' % knn_roc_auc, lw=2)\n",
    "\n",
    "plt.plot(rf_fpr, rf_tpr, color='blue', linestyle='--',\n",
    "         label='RF (area = %0.2f)' % rf_roc_auc, lw=2)\n",
    "\n",
    "plt.plot([0, 1], [0, 1], linestyle='--', lw=2, color='k',\n",
    "         label='Luck')\n",
    "\n",
    "plt.xlim([-0.05, 1.05])\n",
    "plt.ylim([-0.05, 1.05])\n",
    "plt.xlabel('False Positive Rate')\n",
    "plt.ylabel('True Positive Rate')\n",
    "plt.title('ROC Curves of Models with Oversampling')\n",
    "plt.legend(loc=\"lower right\")\n",
    "plt.show()\n",
    "plt.savefig('./plots/ROC_ROS.png', bbox_inches='tight')"
   ]
  },
  {
   "cell_type": "markdown",
   "metadata": {},
   "source": [
    "Interestingly, only the basic classifiers improve in predictive performance."
   ]
  },
  {
   "cell_type": "markdown",
   "metadata": {},
   "source": [
    "#### Estimators with SMOTE"
   ]
  },
  {
   "cell_type": "code",
   "execution_count": 329,
   "metadata": {
    "collapsed": false
   },
   "outputs": [],
   "source": [
    "nb_fpr, nb_tpr, _ = roc_curve(y_test, \n",
    "                    nb_clf_est_smote.predict_proba(X_test)[:,1])\n",
    "nb_roc_auc = auc(nb_fpr, nb_tpr)\n",
    "\n",
    "qda_fpr, qda_tpr, _ = roc_curve(y_test, \n",
    "                    qda_clf_est_smote.predict_proba(X_test)[:,1])\n",
    "qda_roc_auc = auc(qda_fpr, qda_tpr)\n",
    "\n",
    "log_fpr, log_tpr, _ = roc_curve(y_test, \n",
    "                    log_clf_est_smote.predict_proba(X_test)[:,1])\n",
    "log_roc_auc = auc(log_fpr, log_tpr)\n",
    "\n",
    "knn_fpr, knn_tpr, _ = roc_curve(y_test, \n",
    "                    knn_clf_est_smote.predict_proba(X_test)[:,1])\n",
    "knn_roc_auc = auc(knn_fpr, knn_tpr)\n",
    "\n",
    "rf_fpr, rf_tpr, _ = roc_curve(y_test, \n",
    "                    rf_clf_est_smote.predict_proba(X_test)[:,1])\n",
    "rf_roc_auc = auc(rf_fpr, rf_tpr)"
   ]
  },
  {
   "cell_type": "code",
   "execution_count": 330,
   "metadata": {
    "collapsed": false
   },
   "outputs": [
    {
     "data": {
      "image/png": "[encoded data removed]",
      "text/plain": [
       "<matplotlib.figure.Figure at 0x7fd29c39bef0>"
      ]
     },
     "metadata": {},
     "output_type": "display_data"
    },
    {
     "data": {
      "text/plain": [
       "<matplotlib.figure.Figure at 0x7fd29c2fe128>"
      ]
     },
     "metadata": {},
     "output_type": "display_data"
    }
   ],
   "source": [
    "plt.plot(nb_fpr, nb_tpr, color='cyan', linestyle='--',\n",
    "         label='NB (area = %0.2f)' % nb_roc_auc, lw=2)\n",
    "\n",
    "plt.plot(qda_fpr, qda_tpr, color='indigo', linestyle='--',\n",
    "         label='QDA (area = %0.2f)' % qda_roc_auc, lw=2)\n",
    "\n",
    "plt.plot(log_fpr, log_tpr, color='seagreen', linestyle='--',\n",
    "         label='LOG (area = %0.2f)' % log_roc_auc, lw=2)\n",
    "\n",
    "plt.plot(knn_fpr, knn_tpr, color='yellow', linestyle='--',\n",
    "         label='KNN (area = %0.2f)' % knn_roc_auc, lw=2)\n",
    "\n",
    "plt.plot(rf_fpr, rf_tpr, color='blue', linestyle='--',\n",
    "         label='RF (area = %0.2f)' % rf_roc_auc, lw=2)\n",
    "\n",
    "plt.plot([0, 1], [0, 1], linestyle='--', lw=2, color='k',\n",
    "         label='Luck')\n",
    "\n",
    "plt.xlim([-0.05, 1.05])\n",
    "plt.ylim([-0.05, 1.05])\n",
    "plt.xlabel('False Positive Rate')\n",
    "plt.ylabel('True Positive Rate')\n",
    "plt.title('ROC Curves of Models with SMOTE')\n",
    "plt.legend(loc=\"lower right\")\n",
    "plt.show()\n",
    "plt.savefig('./plots/ROC_SMOTE.png', bbox_inches='tight')"
   ]
  },
  {
   "cell_type": "markdown",
   "metadata": {},
   "source": [
    "Again, class imbalance corrections only benefit Naive Bayes and QDA."
   ]
  },
  {
   "cell_type": "markdown",
   "metadata": {},
   "source": [
    "#### Estimators with Random Undersampling of Majority Class"
   ]
  },
  {
   "cell_type": "code",
   "execution_count": 331,
   "metadata": {
    "collapsed": false
   },
   "outputs": [],
   "source": [
    "nb_fpr, nb_tpr, _ = roc_curve(y_test, \n",
    "                    nb_clf_est_rus.predict_proba(X_test)[:,1])\n",
    "nb_roc_auc = auc(nb_fpr, nb_tpr)\n",
    "\n",
    "log_fpr, log_tpr, _ = roc_curve(y_test, \n",
    "                    log_clf_est_rus.predict_proba(X_test)[:,1])\n",
    "log_roc_auc = auc(log_fpr, log_tpr)\n",
    "\n",
    "knn_fpr, knn_tpr, _ = roc_curve(y_test, \n",
    "                    knn_clf_est_rus.predict_proba(X_test)[:,1])\n",
    "knn_roc_auc = auc(knn_fpr, knn_tpr)\n",
    "\n",
    "rf_fpr, rf_tpr, _ = roc_curve(y_test, \n",
    "                    rf_clf_est_rus.predict_proba(X_test)[:,1])\n",
    "rf_roc_auc = auc(rf_fpr, rf_tpr)"
   ]
  },
  {
   "cell_type": "code",
   "execution_count": 332,
   "metadata": {
    "collapsed": false
   },
   "outputs": [
    {
     "data": {
      "image/png": "[encoded data removed]",
      "text/plain": [
       "<matplotlib.figure.Figure at 0x7fd28f743c50>"
      ]
     },
     "metadata": {},
     "output_type": "display_data"
    },
    {
     "data": {
      "text/plain": [
       "<matplotlib.figure.Figure at 0x7fd28ed5cb38>"
      ]
     },
     "metadata": {},
     "output_type": "display_data"
    }
   ],
   "source": [
    "plt.plot(nb_fpr, nb_tpr, color='cyan', linestyle='--',\n",
    "         label='NB (area = %0.2f)' % nb_roc_auc, lw=2)\n",
    "\n",
    "plt.plot(log_fpr, log_tpr, color='seagreen', linestyle='--',\n",
    "         label='LOG (area = %0.2f)' % log_roc_auc, lw=2)\n",
    "\n",
    "plt.plot(knn_fpr, knn_tpr, color='yellow', linestyle='--',\n",
    "         label='KNN (area = %0.2f)' % knn_roc_auc, lw=2)\n",
    "\n",
    "plt.plot(rf_fpr, rf_tpr, color='blue', linestyle='--',\n",
    "         label='RF (area = %0.2f)' % rf_roc_auc, lw=2)\n",
    "\n",
    "plt.plot([0, 1], [0, 1], linestyle='--', lw=2, color='k',\n",
    "         label='Luck')\n",
    "\n",
    "plt.xlim([-0.05, 1.05])\n",
    "plt.ylim([-0.05, 1.05])\n",
    "plt.xlabel('False Positive Rate')\n",
    "plt.ylabel('True Positive Rate')\n",
    "plt.title('ROC Curves of Models with Undersampling')\n",
    "plt.legend(loc=\"lower right\")\n",
    "plt.show()\n",
    "plt.savefig('./plots/ROC_RUS.png', bbox_inches='tight')"
   ]
  },
  {
   "cell_type": "markdown",
   "metadata": {},
   "source": [
    "Training QDA with undersampling resulted in errors."
   ]
  },
  {
   "cell_type": "markdown",
   "metadata": {},
   "source": [
    "#### Estimators with Tomek Link Removal"
   ]
  },
  {
   "cell_type": "code",
   "execution_count": 333,
   "metadata": {
    "collapsed": true
   },
   "outputs": [],
   "source": [
    "nb_fpr, nb_tpr, _ = roc_curve(y_test, \n",
    "                    nb_clf_est_tl.predict_proba(X_test)[:,1])\n",
    "nb_roc_auc = auc(nb_fpr, nb_tpr)\n",
    "\n",
    "qda_fpr, qda_tpr, _ = roc_curve(y_test, \n",
    "                    qda_clf_est_tl.predict_proba(X_test)[:,1])\n",
    "qda_roc_auc = auc(qda_fpr, qda_tpr)\n",
    "\n",
    "log_fpr, log_tpr, _ = roc_curve(y_test, \n",
    "                    log_clf_est_tl.predict_proba(X_test)[:,1])\n",
    "log_roc_auc = auc(log_fpr, log_tpr)\n",
    "\n",
    "knn_fpr, knn_tpr, _ = roc_curve(y_test, \n",
    "                    knn_clf_est_tl.predict_proba(X_test)[:,1])\n",
    "knn_roc_auc = auc(knn_fpr, knn_tpr)\n",
    "\n",
    "rf_fpr, rf_tpr, _ = roc_curve(y_test, \n",
    "                    rf_clf_est_tl.predict_proba(X_test)[:,1])\n",
    "rf_roc_auc = auc(rf_fpr, rf_tpr)"
   ]
  },
  {
   "cell_type": "code",
   "execution_count": 334,
   "metadata": {
    "collapsed": false
   },
   "outputs": [
    {
     "data": {
      "image/png": "[encoded data removed]",
      "text/plain": [
       "<matplotlib.figure.Figure at 0x7fd29c04c1d0>"
      ]
     },
     "metadata": {},
     "output_type": "display_data"
    },
    {
     "data": {
      "text/plain": [
       "<matplotlib.figure.Figure at 0x7fd28f6ebe80>"
      ]
     },
     "metadata": {},
     "output_type": "display_data"
    }
   ],
   "source": [
    "plt.plot(nb_fpr, nb_tpr, color='cyan', linestyle='--',\n",
    "         label='NB (area = %0.2f)' % nb_roc_auc, lw=2)\n",
    "\n",
    "plt.plot(qda_fpr, qda_tpr, color='indigo', linestyle='--',\n",
    "         label='QDA (area = %0.2f)' % qda_roc_auc, lw=2)\n",
    "\n",
    "plt.plot(log_fpr, log_tpr, color='seagreen', linestyle='--',\n",
    "         label='LOG (area = %0.2f)' % log_roc_auc, lw=2)\n",
    "\n",
    "plt.plot(knn_fpr, knn_tpr, color='yellow', linestyle='--',\n",
    "         label='KNN (area = %0.2f)' % knn_roc_auc, lw=2)\n",
    "\n",
    "plt.plot(rf_fpr, rf_tpr, color='blue', linestyle='--',\n",
    "         label='RF (area = %0.2f)' % rf_roc_auc, lw=2)\n",
    "\n",
    "plt.plot([0, 1], [0, 1], linestyle='--', lw=2, color='k',\n",
    "         label='Luck')\n",
    "\n",
    "plt.xlim([-0.05, 1.05])\n",
    "plt.ylim([-0.05, 1.05])\n",
    "plt.xlabel('False Positive Rate')\n",
    "plt.ylabel('True Positive Rate')\n",
    "plt.title('ROC Curves of Models with SMOTE')\n",
    "plt.legend(loc=\"lower right\")\n",
    "plt.show()\n",
    "plt.savefig('./plots/ROC_Basic.png', bbox_inches='tight')"
   ]
  },
  {
   "cell_type": "markdown",
   "metadata": {},
   "source": [
    "#### Plotting the Best of Each Classifier"
   ]
  },
  {
   "cell_type": "code",
   "execution_count": 335,
   "metadata": {
    "collapsed": true
   },
   "outputs": [],
   "source": [
    "nb_fpr, nb_tpr, _ = roc_curve(y_test, \n",
    "                    nb_clf_est_ros.predict_proba(X_test)[:,1])\n",
    "nb_roc_auc = auc(nb_fpr, nb_tpr)\n",
    "\n",
    "qda_fpr, qda_tpr, _ = roc_curve(y_test, \n",
    "                    qda_clf_est_ros.predict_proba(X_test)[:,1])\n",
    "qda_roc_auc = auc(qda_fpr, qda_tpr)\n",
    "\n",
    "log_fpr, log_tpr, _ = roc_curve(y_test, \n",
    "                    log_clf_est_b.predict_proba(X_test)[:,1])\n",
    "log_roc_auc = auc(log_fpr, log_tpr)\n",
    "\n",
    "knn_fpr, knn_tpr, _ = roc_curve(y_test, \n",
    "                    knn_clf_est_rus.predict_proba(X_test)[:,1])\n",
    "knn_roc_auc = auc(knn_fpr, knn_tpr)\n",
    "\n",
    "rf_fpr, rf_tpr, _ = roc_curve(y_test, \n",
    "                    rf_clf_est_b.predict_proba(X_test)[:,1])\n",
    "rf_roc_auc = auc(rf_fpr, rf_tpr)"
   ]
  },
  {
   "cell_type": "code",
   "execution_count": 336,
   "metadata": {
    "collapsed": false
   },
   "outputs": [
    {
     "data": {
      "image/png": "[encoded data removed]",
      "text/plain": [
       "<matplotlib.figure.Figure at 0x7fd28f547c18>"
      ]
     },
     "metadata": {},
     "output_type": "display_data"
    },
    {
     "data": {
      "text/plain": [
       "<matplotlib.figure.Figure at 0x7fd28f7326a0>"
      ]
     },
     "metadata": {},
     "output_type": "display_data"
    }
   ],
   "source": [
    "plt.plot(nb_fpr, nb_tpr, color='cyan', linestyle='--',\n",
    "         label='NB (area = %0.2f)' % nb_roc_auc, lw=2)\n",
    "\n",
    "plt.plot(qda_fpr, qda_tpr, color='indigo', linestyle='--',\n",
    "         label='QDA (area = %0.2f)' % qda_roc_auc, lw=2)\n",
    "\n",
    "plt.plot(log_fpr, log_tpr, color='seagreen', linestyle='--',\n",
    "         label='LOG (area = %0.2f)' % log_roc_auc, lw=2)\n",
    "\n",
    "plt.plot(knn_fpr, knn_tpr, color='yellow', linestyle='--',\n",
    "         label='KNN (area = %0.2f)' % knn_roc_auc, lw=2)\n",
    "\n",
    "plt.plot(rf_fpr, rf_tpr, color='blue', linestyle='--',\n",
    "         label='RF (area = %0.2f)' % rf_roc_auc, lw=2)\n",
    "\n",
    "plt.plot([0, 1], [0, 1], linestyle='--', lw=2, color='k',\n",
    "         label='Luck')\n",
    "\n",
    "plt.xlim([-0.05, 1.05])\n",
    "plt.ylim([-0.05, 1.05])\n",
    "plt.xlabel('False Positive Rate')\n",
    "plt.ylabel('True Positive Rate')\n",
    "plt.title('ROC Curves of Best Iteration of Each Model')\n",
    "plt.legend(loc=\"lower right\")\n",
    "plt.show()\n",
    "plt.savefig('./plots/ROC_Best.png', bbox_inches='tight')"
   ]
  },
  {
   "cell_type": "markdown",
   "metadata": {},
   "source": [
    "### Inspecting the Best Classifier"
   ]
  },
  {
   "cell_type": "markdown",
   "metadata": {},
   "source": [
    "While best model performs extremely well. It is important to be aware of model characteristics like the variability of prediction quality, a key model reliability metric, and the important features, which should inform data maintenance and engineering practices as a model interpretation.  "
   ]
  },
  {
   "cell_type": "markdown",
   "metadata": {},
   "source": [
    "#### Variability of Prediction Quality"
   ]
  },
  {
   "cell_type": "markdown",
   "metadata": {},
   "source": [
    "Normally I would use bootstrapped samples of the test data, with the model fitted on the whole training data, to obtain an empirical distribution of the model's performance (AUC ROC in this case). However, with limited data and time, I will use the AUC ROC on the validation folds of the CV grid search to get a sense of the variability. Normally the AUC ROC values will be biased towards optimism compared to the true out of sample performance."
   ]
  },
  {
   "cell_type": "code",
   "execution_count": 337,
   "metadata": {
    "collapsed": false
   },
   "outputs": [
    {
     "data": {
      "text/html": [
       "<div>\n",
       "<table border=\"1\" class=\"dataframe\">\n",
       "  <thead>\n",
       "    <tr style=\"text-align: right;\">\n",
       "      <th></th>\n",
       "      <th>mean_fit_time</th>\n",
       "      <th>mean_score_time</th>\n",
       "      <th>mean_test_score</th>\n",
       "      <th>mean_train_score</th>\n",
       "      <th>param_clf__C</th>\n",
       "      <th>param_clf__class_weight</th>\n",
       "      <th>param_vt__threshold</th>\n",
       "      <th>params</th>\n",
       "      <th>rank_test_score</th>\n",
       "      <th>split0_test_score</th>\n",
       "      <th>...</th>\n",
       "      <th>split7_test_score</th>\n",
       "      <th>split7_train_score</th>\n",
       "      <th>split8_test_score</th>\n",
       "      <th>split8_train_score</th>\n",
       "      <th>split9_test_score</th>\n",
       "      <th>split9_train_score</th>\n",
       "      <th>std_fit_time</th>\n",
       "      <th>std_score_time</th>\n",
       "      <th>std_test_score</th>\n",
       "      <th>std_train_score</th>\n",
       "    </tr>\n",
       "  </thead>\n",
       "  <tbody>\n",
       "    <tr>\n",
       "      <th>0</th>\n",
       "      <td>0.293604</td>\n",
       "      <td>0.021845</td>\n",
       "      <td>0.962189</td>\n",
       "      <td>0.967970</td>\n",
       "      <td>0.001</td>\n",
       "      <td>balanced</td>\n",
       "      <td>0</td>\n",
       "      <td>{'clf__class_weight': 'balanced', 'clf__C': 0....</td>\n",
       "      <td>16</td>\n",
       "      <td>0.945366</td>\n",
       "      <td>...</td>\n",
       "      <td>0.958231</td>\n",
       "      <td>0.968744</td>\n",
       "      <td>0.946803</td>\n",
       "      <td>0.968351</td>\n",
       "      <td>0.958503</td>\n",
       "      <td>0.968571</td>\n",
       "      <td>0.054329</td>\n",
       "      <td>0.017037</td>\n",
       "      <td>0.012848</td>\n",
       "      <td>0.001090</td>\n",
       "    </tr>\n",
       "    <tr>\n",
       "      <th>1</th>\n",
       "      <td>0.107706</td>\n",
       "      <td>0.002611</td>\n",
       "      <td>0.907534</td>\n",
       "      <td>0.916955</td>\n",
       "      <td>0.001</td>\n",
       "      <td>balanced</td>\n",
       "      <td>0.0475</td>\n",
       "      <td>{'clf__class_weight': 'balanced', 'clf__C': 0....</td>\n",
       "      <td>36</td>\n",
       "      <td>0.911927</td>\n",
       "      <td>...</td>\n",
       "      <td>0.882585</td>\n",
       "      <td>0.917638</td>\n",
       "      <td>0.886871</td>\n",
       "      <td>0.907333</td>\n",
       "      <td>0.901293</td>\n",
       "      <td>0.941246</td>\n",
       "      <td>0.033600</td>\n",
       "      <td>0.001434</td>\n",
       "      <td>0.016534</td>\n",
       "      <td>0.012809</td>\n",
       "    </tr>\n",
       "    <tr>\n",
       "      <th>2</th>\n",
       "      <td>0.101349</td>\n",
       "      <td>0.003126</td>\n",
       "      <td>0.834614</td>\n",
       "      <td>0.842298</td>\n",
       "      <td>0.001</td>\n",
       "      <td>balanced</td>\n",
       "      <td>0.09</td>\n",
       "      <td>{'clf__class_weight': 'balanced', 'clf__C': 0....</td>\n",
       "      <td>56</td>\n",
       "      <td>0.820761</td>\n",
       "      <td>...</td>\n",
       "      <td>0.780544</td>\n",
       "      <td>0.849960</td>\n",
       "      <td>0.768095</td>\n",
       "      <td>0.846585</td>\n",
       "      <td>0.877347</td>\n",
       "      <td>0.838907</td>\n",
       "      <td>0.030489</td>\n",
       "      <td>0.002562</td>\n",
       "      <td>0.040203</td>\n",
       "      <td>0.004708</td>\n",
       "    </tr>\n",
       "    <tr>\n",
       "      <th>3</th>\n",
       "      <td>0.118987</td>\n",
       "      <td>0.002824</td>\n",
       "      <td>0.813992</td>\n",
       "      <td>0.817461</td>\n",
       "      <td>0.001</td>\n",
       "      <td>balanced</td>\n",
       "      <td>0.1275</td>\n",
       "      <td>{'clf__class_weight': 'balanced', 'clf__C': 0....</td>\n",
       "      <td>73</td>\n",
       "      <td>0.792588</td>\n",
       "      <td>...</td>\n",
       "      <td>0.772517</td>\n",
       "      <td>0.831389</td>\n",
       "      <td>0.738163</td>\n",
       "      <td>0.821732</td>\n",
       "      <td>0.840680</td>\n",
       "      <td>0.811150</td>\n",
       "      <td>0.024047</td>\n",
       "      <td>0.001378</td>\n",
       "      <td>0.044496</td>\n",
       "      <td>0.005895</td>\n",
       "    </tr>\n",
       "    <tr>\n",
       "      <th>4</th>\n",
       "      <td>0.338856</td>\n",
       "      <td>0.015122</td>\n",
       "      <td>0.882875</td>\n",
       "      <td>0.892010</td>\n",
       "      <td>0.001</td>\n",
       "      <td>{1: 1}</td>\n",
       "      <td>0</td>\n",
       "      <td>{'clf__class_weight': {1: 1}, 'clf__C': 0.001,...</td>\n",
       "      <td>38</td>\n",
       "      <td>0.896524</td>\n",
       "      <td>...</td>\n",
       "      <td>0.884490</td>\n",
       "      <td>0.891744</td>\n",
       "      <td>0.823265</td>\n",
       "      <td>0.897401</td>\n",
       "      <td>0.888571</td>\n",
       "      <td>0.891773</td>\n",
       "      <td>0.116151</td>\n",
       "      <td>0.011178</td>\n",
       "      <td>0.027455</td>\n",
       "      <td>0.002772</td>\n",
       "    </tr>\n",
       "  </tbody>\n",
       "</table>\n",
       "<p>5 rows × 33 columns</p>\n",
       "</div>"
      ],
      "text/plain": [
       "   mean_fit_time  mean_score_time  mean_test_score  mean_train_score  \\\n",
       "0       0.293604         0.021845         0.962189          0.967970   \n",
       "1       0.107706         0.002611         0.907534          0.916955   \n",
       "2       0.101349         0.003126         0.834614          0.842298   \n",
       "3       0.118987         0.002824         0.813992          0.817461   \n",
       "4       0.338856         0.015122         0.882875          0.892010   \n",
       "\n",
       "  param_clf__C param_clf__class_weight param_vt__threshold  \\\n",
       "0        0.001                balanced                   0   \n",
       "1        0.001                balanced              0.0475   \n",
       "2        0.001                balanced                0.09   \n",
       "3        0.001                balanced              0.1275   \n",
       "4        0.001                  {1: 1}                   0   \n",
       "\n",
       "                                              params  rank_test_score  \\\n",
       "0  {'clf__class_weight': 'balanced', 'clf__C': 0....               16   \n",
       "1  {'clf__class_weight': 'balanced', 'clf__C': 0....               36   \n",
       "2  {'clf__class_weight': 'balanced', 'clf__C': 0....               56   \n",
       "3  {'clf__class_weight': 'balanced', 'clf__C': 0....               73   \n",
       "4  {'clf__class_weight': {1: 1}, 'clf__C': 0.001,...               38   \n",
       "\n",
       "   split0_test_score       ...         split7_test_score  split7_train_score  \\\n",
       "0           0.945366       ...                  0.958231            0.968744   \n",
       "1           0.911927       ...                  0.882585            0.917638   \n",
       "2           0.820761       ...                  0.780544            0.849960   \n",
       "3           0.792588       ...                  0.772517            0.831389   \n",
       "4           0.896524       ...                  0.884490            0.891744   \n",
       "\n",
       "   split8_test_score  split8_train_score  split9_test_score  \\\n",
       "0           0.946803            0.968351           0.958503   \n",
       "1           0.886871            0.907333           0.901293   \n",
       "2           0.768095            0.846585           0.877347   \n",
       "3           0.738163            0.821732           0.840680   \n",
       "4           0.823265            0.897401           0.888571   \n",
       "\n",
       "   split9_train_score  std_fit_time  std_score_time  std_test_score  \\\n",
       "0            0.968571      0.054329        0.017037        0.012848   \n",
       "1            0.941246      0.033600        0.001434        0.016534   \n",
       "2            0.838907      0.030489        0.002562        0.040203   \n",
       "3            0.811150      0.024047        0.001378        0.044496   \n",
       "4            0.891773      0.116151        0.011178        0.027455   \n",
       "\n",
       "   std_train_score  \n",
       "0         0.001090  \n",
       "1         0.012809  \n",
       "2         0.004708  \n",
       "3         0.005895  \n",
       "4         0.002772  \n",
       "\n",
       "[5 rows x 33 columns]"
      ]
     },
     "execution_count": 337,
     "metadata": {},
     "output_type": "execute_result"
    }
   ],
   "source": [
    "log_cv_results=pd.DataFrame(log_clf_est_b.cv_results_)\n",
    "log_cv_results.head()"
   ]
  },
  {
   "cell_type": "markdown",
   "metadata": {},
   "source": [
    "Isolate the best parameters"
   ]
  },
  {
   "cell_type": "code",
   "execution_count": 338,
   "metadata": {
    "collapsed": false
   },
   "outputs": [
    {
     "data": {
      "text/html": [
       "<div>\n",
       "<table border=\"1\" class=\"dataframe\">\n",
       "  <thead>\n",
       "    <tr style=\"text-align: right;\">\n",
       "      <th></th>\n",
       "      <th>mean_fit_time</th>\n",
       "      <th>mean_score_time</th>\n",
       "      <th>mean_test_score</th>\n",
       "      <th>mean_train_score</th>\n",
       "      <th>param_clf__C</th>\n",
       "      <th>param_clf__class_weight</th>\n",
       "      <th>param_vt__threshold</th>\n",
       "      <th>params</th>\n",
       "      <th>rank_test_score</th>\n",
       "      <th>split0_test_score</th>\n",
       "      <th>...</th>\n",
       "      <th>split7_test_score</th>\n",
       "      <th>split7_train_score</th>\n",
       "      <th>split8_test_score</th>\n",
       "      <th>split8_train_score</th>\n",
       "      <th>split9_test_score</th>\n",
       "      <th>split9_train_score</th>\n",
       "      <th>std_fit_time</th>\n",
       "      <th>std_score_time</th>\n",
       "      <th>std_test_score</th>\n",
       "      <th>std_train_score</th>\n",
       "    </tr>\n",
       "  </thead>\n",
       "  <tbody>\n",
       "    <tr>\n",
       "      <th>36</th>\n",
       "      <td>0.32326</td>\n",
       "      <td>0.011403</td>\n",
       "      <td>0.976376</td>\n",
       "      <td>0.999047</td>\n",
       "      <td>10</td>\n",
       "      <td>{1: 1}</td>\n",
       "      <td>0</td>\n",
       "      <td>{'clf__class_weight': {1: 1}, 'clf__C': 10, 'v...</td>\n",
       "      <td>1</td>\n",
       "      <td>0.964192</td>\n",
       "      <td>...</td>\n",
       "      <td>0.964898</td>\n",
       "      <td>0.999232</td>\n",
       "      <td>0.976054</td>\n",
       "      <td>0.999008</td>\n",
       "      <td>0.992381</td>\n",
       "      <td>0.998826</td>\n",
       "      <td>0.041042</td>\n",
       "      <td>0.005302</td>\n",
       "      <td>0.011016</td>\n",
       "      <td>0.00027</td>\n",
       "    </tr>\n",
       "  </tbody>\n",
       "</table>\n",
       "<p>1 rows × 33 columns</p>\n",
       "</div>"
      ],
      "text/plain": [
       "    mean_fit_time  mean_score_time  mean_test_score  mean_train_score  \\\n",
       "36        0.32326         0.011403         0.976376          0.999047   \n",
       "\n",
       "   param_clf__C param_clf__class_weight param_vt__threshold  \\\n",
       "36           10                  {1: 1}                   0   \n",
       "\n",
       "                                               params  rank_test_score  \\\n",
       "36  {'clf__class_weight': {1: 1}, 'clf__C': 10, 'v...                1   \n",
       "\n",
       "    split0_test_score       ...         split7_test_score  split7_train_score  \\\n",
       "36           0.964192       ...                  0.964898            0.999232   \n",
       "\n",
       "    split8_test_score  split8_train_score  split9_test_score  \\\n",
       "36           0.976054            0.999008           0.992381   \n",
       "\n",
       "    split9_train_score  std_fit_time  std_score_time  std_test_score  \\\n",
       "36            0.998826      0.041042        0.005302        0.011016   \n",
       "\n",
       "    std_train_score  \n",
       "36          0.00027  \n",
       "\n",
       "[1 rows x 33 columns]"
      ]
     },
     "execution_count": 338,
     "metadata": {},
     "output_type": "execute_result"
    }
   ],
   "source": [
    "log_cv_results=log_cv_results[(log_cv_results.rank_test_score==1)]\n",
    "log_cv_results.head()"
   ]
  },
  {
   "cell_type": "code",
   "execution_count": 339,
   "metadata": {
    "collapsed": false
   },
   "outputs": [
    {
     "data": {
      "text/html": [
       "<div>\n",
       "<table border=\"1\" class=\"dataframe\">\n",
       "  <thead>\n",
       "    <tr style=\"text-align: right;\">\n",
       "      <th></th>\n",
       "      <th>Fold</th>\n",
       "      <th>Validation AUC ROC</th>\n",
       "    </tr>\n",
       "  </thead>\n",
       "  <tbody>\n",
       "    <tr>\n",
       "      <th>0</th>\n",
       "      <td>1</td>\n",
       "      <td>0.964192</td>\n",
       "    </tr>\n",
       "    <tr>\n",
       "      <th>1</th>\n",
       "      <td>2</td>\n",
       "      <td>0.988283</td>\n",
       "    </tr>\n",
       "    <tr>\n",
       "      <th>2</th>\n",
       "      <td>3</td>\n",
       "      <td>0.962744</td>\n",
       "    </tr>\n",
       "    <tr>\n",
       "      <th>3</th>\n",
       "      <td>4</td>\n",
       "      <td>0.983676</td>\n",
       "    </tr>\n",
       "    <tr>\n",
       "      <th>4</th>\n",
       "      <td>5</td>\n",
       "      <td>0.983598</td>\n",
       "    </tr>\n",
       "    <tr>\n",
       "      <th>5</th>\n",
       "      <td>6</td>\n",
       "      <td>0.984762</td>\n",
       "    </tr>\n",
       "    <tr>\n",
       "      <th>6</th>\n",
       "      <td>7</td>\n",
       "      <td>0.963197</td>\n",
       "    </tr>\n",
       "    <tr>\n",
       "      <th>7</th>\n",
       "      <td>8</td>\n",
       "      <td>0.964898</td>\n",
       "    </tr>\n",
       "    <tr>\n",
       "      <th>8</th>\n",
       "      <td>9</td>\n",
       "      <td>0.976054</td>\n",
       "    </tr>\n",
       "    <tr>\n",
       "      <th>9</th>\n",
       "      <td>10</td>\n",
       "      <td>0.992381</td>\n",
       "    </tr>\n",
       "  </tbody>\n",
       "</table>\n",
       "</div>"
      ],
      "text/plain": [
       "   Fold  Validation AUC ROC\n",
       "0     1            0.964192\n",
       "1     2            0.988283\n",
       "2     3            0.962744\n",
       "3     4            0.983676\n",
       "4     5            0.983598\n",
       "5     6            0.984762\n",
       "6     7            0.963197\n",
       "7     8            0.964898\n",
       "8     9            0.976054\n",
       "9    10            0.992381"
      ]
     },
     "execution_count": 339,
     "metadata": {},
     "output_type": "execute_result"
    }
   ],
   "source": [
    "keep_cols=[\"split\"+str(i)+\"_test_score\" for i in range(0,10)]\n",
    "log_cv_results=log_cv_results[keep_cols]\n",
    "log_cv_results.head()\n",
    "temp=log_cv_results.T.reset_index()\n",
    "temp.columns=['Fold','Validation AUC ROC']best_estimator_.classes_\n",
    "temp['Fold']=range(1,11)\n",
    "temp"
   ]
  },
  {
   "cell_type": "code",
   "execution_count": 340,
   "metadata": {
    "collapsed": false
   },
   "outputs": [
    {
     "data": {
      "text/plain": [
       "count    10.000000\n",
       "mean      0.976378\n",
       "std       0.011612\n",
       "min       0.962744\n",
       "25%       0.964368\n",
       "50%       0.979826\n",
       "75%       0.984490\n",
       "max       0.992381\n",
       "Name: Validation AUC ROC, dtype: float64"
      ]
     },
     "execution_count": 340,
     "metadata": {},
     "output_type": "execute_result"
    }
   ],
   "source": [
    "temp['Validation AUC ROC'].describe()"
   ]
  },
  {
   "cell_type": "markdown",
   "metadata": {},
   "source": [
    "Fortunately, the performance is stable. With more data and time, I would do repeat cross-validation or repeated nested cross-validation to get more robust estimates of the out of sample error and its variability."
   ]
  },
  {
   "cell_type": "markdown",
   "metadata": {},
   "source": [
    "#### Important features"
   ]
  },
  {
   "cell_type": "markdown",
   "metadata": {},
   "source": [
    "Unfortunately, even on a standardized scale, coefficient magnitude is not necessarily the right way to determine variable importance in a logistic regression. Fortunately, the random forest classifier has similar performance to the logistic regression, so it will use it to identify important features. "
   ]
  },
  {
   "cell_type": "code",
   "execution_count": 355,
   "metadata": {
    "collapsed": false
   },
   "outputs": [
    {
     "data": {
      "text/plain": [
       "Pipeline(steps=[('vt', VarianceThreshold(threshold=0)), ('clf', RandomForestClassifier(bootstrap=True, class_weight='balanced',\n",
       "            criterion='gini', max_depth=None, max_features=0.1,\n",
       "            max_leaf_nodes=None, min_impurity_split=1e-07,\n",
       "            min_samples_leaf=1, min_samples_split=2,\n",
       "            min_weight_fraction_leaf=0.0, n_estimators=100, n_jobs=1,\n",
       "            oob_score=False, random_state=None, verbose=0,\n",
       "            warm_start=False))])"
      ]
     },
     "execution_count": 355,
     "metadata": {},
     "output_type": "execute_result"
    }
   ],
   "source": [
    "rf_clf_b.set_params(**rf_clf_est_b.best_params_).fit(X_train,y_train)"
   ]
  },
  {
   "cell_type": "code",
   "execution_count": 375,
   "metadata": {
    "collapsed": false
   },
   "outputs": [],
   "source": [
    "importance=rf_clf_b.named_steps['clf'].feature_importances_\n",
    "indices = np.argsort(importance)[::-1]"
   ]
  },
  {
   "cell_type": "code",
   "execution_count": 376,
   "metadata": {
    "collapsed": false
   },
   "outputs": [],
   "source": [
    "feature_importance=pd.DataFrame({'feature':clean_data.columns[:-1][indices],\n",
    "                                 'importance':importance})"
   ]
  },
  {
   "cell_type": "code",
   "execution_count": 380,
   "metadata": {
    "collapsed": false
   },
   "outputs": [
    {
     "data": {
      "text/html": [
       "<div>\n",
       "<table border=\"1\" class=\"dataframe\">\n",
       "  <thead>\n",
       "    <tr style=\"text-align: right;\">\n",
       "      <th></th>\n",
       "      <th>feature</th>\n",
       "      <th>importance</th>\n",
       "    </tr>\n",
       "  </thead>\n",
       "  <tbody>\n",
       "    <tr>\n",
       "      <th>16</th>\n",
       "      <td>ancurl*adclick</td>\n",
       "      <td>0.128013</td>\n",
       "    </tr>\n",
       "    <tr>\n",
       "      <th>22</th>\n",
       "      <td>ancurl*adid</td>\n",
       "      <td>0.069461</td>\n",
       "    </tr>\n",
       "    <tr>\n",
       "      <th>372</th>\n",
       "      <td>origurl*misfits2</td>\n",
       "      <td>0.064269</td>\n",
       "    </tr>\n",
       "    <tr>\n",
       "      <th>1420</th>\n",
       "      <td>url*static.wired.com</td>\n",
       "      <td>0.043636</td>\n",
       "    </tr>\n",
       "    <tr>\n",
       "      <th>8</th>\n",
       "      <td>ancurl*http+www</td>\n",
       "      <td>0.043488</td>\n",
       "    </tr>\n",
       "    <tr>\n",
       "      <th>1264</th>\n",
       "      <td>origurl*lofts</td>\n",
       "      <td>0.043221</td>\n",
       "    </tr>\n",
       "    <tr>\n",
       "      <th>1504</th>\n",
       "      <td>url*off+gif</td>\n",
       "      <td>0.024394</td>\n",
       "    </tr>\n",
       "    <tr>\n",
       "      <th>1476</th>\n",
       "      <td>ancurl*www.amazon.com</td>\n",
       "      <td>0.021361</td>\n",
       "    </tr>\n",
       "    <tr>\n",
       "      <th>1250</th>\n",
       "      <td>url*alley</td>\n",
       "      <td>0.021211</td>\n",
       "    </tr>\n",
       "    <tr>\n",
       "      <th>1299</th>\n",
       "      <td>origurl*www.sanjosesabercats.com</td>\n",
       "      <td>0.018702</td>\n",
       "    </tr>\n",
       "  </tbody>\n",
       "</table>\n",
       "</div>"
      ],
      "text/plain": [
       "                               feature  importance\n",
       "16                      ancurl*adclick    0.128013\n",
       "22                         ancurl*adid    0.069461\n",
       "372                   origurl*misfits2    0.064269\n",
       "1420              url*static.wired.com    0.043636\n",
       "8                      ancurl*http+www    0.043488\n",
       "1264                     origurl*lofts    0.043221\n",
       "1504                       url*off+gif    0.024394\n",
       "1476             ancurl*www.amazon.com    0.021361\n",
       "1250                         url*alley    0.021211\n",
       "1299  origurl*www.sanjosesabercats.com    0.018702"
      ]
     },
     "execution_count": 380,
     "metadata": {},
     "output_type": "execute_result"
    }
   ],
   "source": [
    "feature_importance.sort_values(by='importance',inplace=True,ascending=False)\n",
    "feature_importance[:10]"
   ]
  },
  {
   "cell_type": "markdown",
   "metadata": {},
   "source": [
    "It is not surprising that the most important two features are ad attributes. This also adds confidence to the model by showing that it is picking up reasonable features in the data. \n",
    "\n",
    "Many of the other top ten features, like url*static.wired.com and ancurl*www.amazon.com, also make sense because they are likely links to the urls of the companying that owns the ad.\n",
    "\n",
    "I would not be surprised if adding random forest as a feature selection step in the pipeline wouldn't bring the AUC ROC of nearly all of the classifiers to 0.99. "
   ]
  },
  {
   "cell_type": "markdown",
   "metadata": {},
   "source": [
    "### Final Thoughts"
   ]
  },
  {
   "cell_type": "markdown",
   "metadata": {},
   "source": [
    "The best model is clearly the logistic classifier without the sampling-based class imbalance corrections. While the random forest mirrors its performance, the random forest is a much more complex and computationally expensive model. Therefore, in practice, the logistic classifier would be best. \n",
    "\n",
    "It is surprising that the class imbalance corrections had limited impact on the more complex classifiers. In other classification tasks, the class imbalance corrections, especially the Tomek Link removals, significantly improved the AUC ROC of the more complex classifiers. However every classification task is different.\n",
    "\n",
    "If the AUC ROC was not already 0.99, I would try feature selection via random forest, ensemble methods other than random forest like bagging classifiers, adaptive boosting, or even extreme gradient boosting or do more aggressive feature engineering and hyperparameter tuning. However at an AUC ROC of 0.99, this is definitely not a good investment of company time."
   ]
  },
  {
   "cell_type": "markdown",
   "metadata": {},
   "source": [
    "#### Saving parameters of final model"
   ]
  },
  {
   "cell_type": "code",
   "execution_count": 240,
   "metadata": {
    "collapsed": false
   },
   "outputs": [
    {
     "data": {
      "text/plain": [
       "{'clf__C': 10, 'clf__class_weight': {1: 1}, 'vt__threshold': 0}"
      ]
     },
     "execution_count": 240,
     "metadata": {},
     "output_type": "execute_result"
    }
   ],
   "source": [
    "best_paras = log_clf_est_b.best_params_\n",
    "best_paras"
   ]
  },
  {
   "cell_type": "code",
   "execution_count": 241,
   "metadata": {
    "collapsed": true
   },
   "outputs": [],
   "source": [
    "with open('./model_para/logistic_best_paras.json', 'w') as outfile:\n",
    "    json.dump(best_paras, outfile)"
   ]
  }
 ],
 "metadata": {
  "anaconda-cloud": {},
  "kernelspec": {
   "display_name": "Python [conda env:py35]",
   "language": "python",
   "name": "conda-env-py35-py"
  },
  "language_info": {
   "codemirror_mode": {
    "name": "ipython",
    "version": 3
   },
   "file_extension": ".py",
   "mimetype": "text/x-python",
   "name": "python",
   "nbconvert_exporter": "python",
   "pygments_lexer": "ipython3",
   "version": "3.5.2"
  }
 },
 "nbformat": 4,
 "nbformat_minor": 1
}
